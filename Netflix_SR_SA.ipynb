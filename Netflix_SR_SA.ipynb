{
 "cells": [
  {
   "cell_type": "markdown",
   "id": "a65cf680",
   "metadata": {},
   "source": [
    "# Sistema de Recomendación y Análisis de Sentimiento <a class='tocSkip'>"
   ]
  },
  {
   "cell_type": "markdown",
   "id": "c057a9f8",
   "metadata": {},
   "source": [
    "<img src=\"https://download.logo.wine/logo/Netflix/Netflix-Logo.wine.png\" style=\"width:600px;height:250px;\">"
   ]
  },
  {
   "cell_type": "markdown",
   "id": "65a53a0c",
   "metadata": {},
   "source": [
    "En este notebook se realizará un pequeño ejercicio para practicar el analisis exploratorio a una base de datos tomada del sitio [kaggle](https://www.kaggle.com/datasets/shivamb/netflix-shows), la cual contiene información de películas y programas de TV.\n",
    "\n",
    "El proyecto consta de tres partes:\n",
    "\n",
    "    * Realizar un análisis exploratorio de los datos, mejor conocido como EDA.\n",
    "    * Hacer un sistema de recomendación.\n",
    "    * Finalmente, elaborar un análisis de sentimiento."
   ]
  },
  {
   "cell_type": "markdown",
   "id": "f4e25f7e",
   "metadata": {},
   "source": [
    "Se importan todos los paquetes a usar y se configura el cuaderno."
   ]
  },
  {
   "cell_type": "markdown",
   "id": "94af8402",
   "metadata": {},
   "source": [
    "# set up"
   ]
  },
  {
   "cell_type": "markdown",
   "id": "7fd4394a",
   "metadata": {},
   "source": [
    "Se importan los paquetes a usar en esta primera parte del proyecto y se configura el ambiente de trabajo."
   ]
  },
  {
   "cell_type": "code",
   "execution_count": 1,
   "id": "9ac498d6",
   "metadata": {},
   "outputs": [],
   "source": [
    "import numpy as np\n",
    "import pandas as pd\n",
    "import matplotlib.pyplot as plt\n",
    "import seaborn as sns\n",
    "import re\n",
    "import math\n",
    "\n",
    "%matplotlib inline\n",
    "%config IPCompleter.greedy = True\n",
    "plt.style.use('ggplot')\n",
    "pd.options.display.min_rows = 6\n",
    "pd.options.display.max_columns = None\n",
    "pd.options.display.float_format = '{:,.4f}'.format"
   ]
  },
  {
   "cell_type": "markdown",
   "id": "af2e182c",
   "metadata": {},
   "source": [
    "# Importa la data"
   ]
  },
  {
   "cell_type": "markdown",
   "id": "11691d82",
   "metadata": {},
   "source": [
    "Se carga la base de datos."
   ]
  },
  {
   "cell_type": "code",
   "execution_count": 2,
   "id": "d3f0c71b",
   "metadata": {},
   "outputs": [
    {
     "data": {
      "text/html": [
       "<div>\n",
       "<style scoped>\n",
       "    .dataframe tbody tr th:only-of-type {\n",
       "        vertical-align: middle;\n",
       "    }\n",
       "\n",
       "    .dataframe tbody tr th {\n",
       "        vertical-align: top;\n",
       "    }\n",
       "\n",
       "    .dataframe thead th {\n",
       "        text-align: right;\n",
       "    }\n",
       "</style>\n",
       "<table border=\"1\" class=\"dataframe\">\n",
       "  <thead>\n",
       "    <tr style=\"text-align: right;\">\n",
       "      <th></th>\n",
       "      <th>show_id</th>\n",
       "      <th>type</th>\n",
       "      <th>title</th>\n",
       "      <th>director</th>\n",
       "      <th>cast</th>\n",
       "      <th>country</th>\n",
       "      <th>date_added</th>\n",
       "      <th>release_year</th>\n",
       "      <th>rating</th>\n",
       "      <th>duration</th>\n",
       "      <th>listed_in</th>\n",
       "      <th>description</th>\n",
       "    </tr>\n",
       "  </thead>\n",
       "  <tbody>\n",
       "    <tr>\n",
       "      <th>0</th>\n",
       "      <td>s1</td>\n",
       "      <td>Movie</td>\n",
       "      <td>Dick Johnson Is Dead</td>\n",
       "      <td>Kirsten Johnson</td>\n",
       "      <td>NaN</td>\n",
       "      <td>United States</td>\n",
       "      <td>September 25, 2021</td>\n",
       "      <td>2020</td>\n",
       "      <td>PG-13</td>\n",
       "      <td>90 min</td>\n",
       "      <td>Documentaries</td>\n",
       "      <td>As her father nears the end of his life, filmm...</td>\n",
       "    </tr>\n",
       "    <tr>\n",
       "      <th>1</th>\n",
       "      <td>s2</td>\n",
       "      <td>TV Show</td>\n",
       "      <td>Blood &amp; Water</td>\n",
       "      <td>NaN</td>\n",
       "      <td>Ama Qamata, Khosi Ngema, Gail Mabalane, Thaban...</td>\n",
       "      <td>South Africa</td>\n",
       "      <td>September 24, 2021</td>\n",
       "      <td>2021</td>\n",
       "      <td>TV-MA</td>\n",
       "      <td>2 Seasons</td>\n",
       "      <td>International TV Shows, TV Dramas, TV Mysteries</td>\n",
       "      <td>After crossing paths at a party, a Cape Town t...</td>\n",
       "    </tr>\n",
       "    <tr>\n",
       "      <th>2</th>\n",
       "      <td>s3</td>\n",
       "      <td>TV Show</td>\n",
       "      <td>Ganglands</td>\n",
       "      <td>Julien Leclercq</td>\n",
       "      <td>Sami Bouajila, Tracy Gotoas, Samuel Jouy, Nabi...</td>\n",
       "      <td>NaN</td>\n",
       "      <td>September 24, 2021</td>\n",
       "      <td>2021</td>\n",
       "      <td>TV-MA</td>\n",
       "      <td>1 Season</td>\n",
       "      <td>Crime TV Shows, International TV Shows, TV Act...</td>\n",
       "      <td>To protect his family from a powerful drug lor...</td>\n",
       "    </tr>\n",
       "    <tr>\n",
       "      <th>3</th>\n",
       "      <td>s4</td>\n",
       "      <td>TV Show</td>\n",
       "      <td>Jailbirds New Orleans</td>\n",
       "      <td>NaN</td>\n",
       "      <td>NaN</td>\n",
       "      <td>NaN</td>\n",
       "      <td>September 24, 2021</td>\n",
       "      <td>2021</td>\n",
       "      <td>TV-MA</td>\n",
       "      <td>1 Season</td>\n",
       "      <td>Docuseries, Reality TV</td>\n",
       "      <td>Feuds, flirtations and toilet talk go down amo...</td>\n",
       "    </tr>\n",
       "    <tr>\n",
       "      <th>4</th>\n",
       "      <td>s5</td>\n",
       "      <td>TV Show</td>\n",
       "      <td>Kota Factory</td>\n",
       "      <td>NaN</td>\n",
       "      <td>Mayur More, Jitendra Kumar, Ranjan Raj, Alam K...</td>\n",
       "      <td>India</td>\n",
       "      <td>September 24, 2021</td>\n",
       "      <td>2021</td>\n",
       "      <td>TV-MA</td>\n",
       "      <td>2 Seasons</td>\n",
       "      <td>International TV Shows, Romantic TV Shows, TV ...</td>\n",
       "      <td>In a city of coaching centers known to train I...</td>\n",
       "    </tr>\n",
       "  </tbody>\n",
       "</table>\n",
       "</div>"
      ],
      "text/plain": [
       "  show_id     type                  title         director  \\\n",
       "0      s1    Movie   Dick Johnson Is Dead  Kirsten Johnson   \n",
       "1      s2  TV Show          Blood & Water              NaN   \n",
       "2      s3  TV Show              Ganglands  Julien Leclercq   \n",
       "3      s4  TV Show  Jailbirds New Orleans              NaN   \n",
       "4      s5  TV Show           Kota Factory              NaN   \n",
       "\n",
       "                                                cast        country  \\\n",
       "0                                                NaN  United States   \n",
       "1  Ama Qamata, Khosi Ngema, Gail Mabalane, Thaban...   South Africa   \n",
       "2  Sami Bouajila, Tracy Gotoas, Samuel Jouy, Nabi...            NaN   \n",
       "3                                                NaN            NaN   \n",
       "4  Mayur More, Jitendra Kumar, Ranjan Raj, Alam K...          India   \n",
       "\n",
       "           date_added  release_year rating   duration  \\\n",
       "0  September 25, 2021          2020  PG-13     90 min   \n",
       "1  September 24, 2021          2021  TV-MA  2 Seasons   \n",
       "2  September 24, 2021          2021  TV-MA   1 Season   \n",
       "3  September 24, 2021          2021  TV-MA   1 Season   \n",
       "4  September 24, 2021          2021  TV-MA  2 Seasons   \n",
       "\n",
       "                                           listed_in  \\\n",
       "0                                      Documentaries   \n",
       "1    International TV Shows, TV Dramas, TV Mysteries   \n",
       "2  Crime TV Shows, International TV Shows, TV Act...   \n",
       "3                             Docuseries, Reality TV   \n",
       "4  International TV Shows, Romantic TV Shows, TV ...   \n",
       "\n",
       "                                         description  \n",
       "0  As her father nears the end of his life, filmm...  \n",
       "1  After crossing paths at a party, a Cape Town t...  \n",
       "2  To protect his family from a powerful drug lor...  \n",
       "3  Feuds, flirtations and toilet talk go down amo...  \n",
       "4  In a city of coaching centers known to train I...  "
      ]
     },
     "execution_count": 2,
     "metadata": {},
     "output_type": "execute_result"
    }
   ],
   "source": [
    "df = pd.read_csv('data/netflix_titles.csv')\n",
    "df.head()"
   ]
  },
  {
   "cell_type": "markdown",
   "id": "e85c4f32",
   "metadata": {},
   "source": [
    "# EDA"
   ]
  },
  {
   "cell_type": "markdown",
   "id": "0362d0d1",
   "metadata": {},
   "source": [
    "En esta primer parte del trabajo, se hece el análisis exploratorio al conjunto de datos empezando por conocer el tamaño de archivo con el que se trabajará."
   ]
  },
  {
   "cell_type": "markdown",
   "id": "fe1bfe79",
   "metadata": {},
   "source": [
    "## Descripción general del conjunto de datos"
   ]
  },
  {
   "cell_type": "markdown",
   "id": "f06618ba",
   "metadata": {},
   "source": [
    "Primero, hay que conocer el tamaño de la base, así como también los tipos de datos que se tienen para saber si es necesario hacer conversiones en los mismos."
   ]
  },
  {
   "cell_type": "code",
   "execution_count": 3,
   "id": "0c32492e",
   "metadata": {},
   "outputs": [
    {
     "name": "stdout",
     "output_type": "stream",
     "text": [
      "Número de filas:  8807\n",
      "Número de columnas:  12\n"
     ]
    }
   ],
   "source": [
    "print(\"Número de filas: \", df.shape[0])\n",
    "print(\"Número de columnas: \", df.shape[1])"
   ]
  },
  {
   "cell_type": "code",
   "execution_count": 4,
   "id": "fee10879",
   "metadata": {},
   "outputs": [
    {
     "data": {
      "text/plain": [
       "show_id         object\n",
       "type            object\n",
       "title           object\n",
       "director        object\n",
       "cast            object\n",
       "country         object\n",
       "date_added      object\n",
       "release_year     int64\n",
       "rating          object\n",
       "duration        object\n",
       "listed_in       object\n",
       "description     object\n",
       "dtype: object"
      ]
     },
     "execution_count": 4,
     "metadata": {},
     "output_type": "execute_result"
    }
   ],
   "source": [
    "df.dtypes"
   ]
  },
  {
   "cell_type": "code",
   "execution_count": 5,
   "id": "b1a56d65",
   "metadata": {},
   "outputs": [
    {
     "name": "stdout",
     "output_type": "stream",
     "text": [
      "<class 'pandas.core.frame.DataFrame'>\n",
      "RangeIndex: 8807 entries, 0 to 8806\n",
      "Data columns (total 12 columns):\n",
      " #   Column        Non-Null Count  Dtype \n",
      "---  ------        --------------  ----- \n",
      " 0   show_id       8807 non-null   object\n",
      " 1   type          8807 non-null   object\n",
      " 2   title         8807 non-null   object\n",
      " 3   director      6173 non-null   object\n",
      " 4   cast          7982 non-null   object\n",
      " 5   country       7976 non-null   object\n",
      " 6   date_added    8797 non-null   object\n",
      " 7   release_year  8807 non-null   int64 \n",
      " 8   rating        8803 non-null   object\n",
      " 9   duration      8804 non-null   object\n",
      " 10  listed_in     8807 non-null   object\n",
      " 11  description   8807 non-null   object\n",
      "dtypes: int64(1), object(11)\n",
      "memory usage: 825.8+ KB\n"
     ]
    }
   ],
   "source": [
    "df.info()"
   ]
  },
  {
   "cell_type": "markdown",
   "id": "04bf9971",
   "metadata": {},
   "source": [
    "Se aprecia en la información anterior que hay columnas con valores faltantes que deben ser tratados."
   ]
  },
  {
   "cell_type": "markdown",
   "id": "6286ba3e",
   "metadata": {},
   "source": [
    "Veamos los datos unicos por cada variable dentro de este dataset."
   ]
  },
  {
   "cell_type": "code",
   "execution_count": 6,
   "id": "a58d0eeb",
   "metadata": {},
   "outputs": [
    {
     "data": {
      "text/plain": [
       "show_id         8807\n",
       "type               2\n",
       "title           8807\n",
       "director        4528\n",
       "cast            7692\n",
       "country          748\n",
       "date_added      1767\n",
       "release_year      74\n",
       "rating            17\n",
       "duration         220\n",
       "listed_in        514\n",
       "description     8775\n",
       "dtype: int64"
      ]
     },
     "execution_count": 6,
     "metadata": {},
     "output_type": "execute_result"
    }
   ],
   "source": [
    "df.nunique(axis = 0)"
   ]
  },
  {
   "cell_type": "markdown",
   "id": "49767717",
   "metadata": {},
   "source": [
    "## Identificar valores faltantes"
   ]
  },
  {
   "cell_type": "markdown",
   "id": "32c36c81",
   "metadata": {},
   "source": [
    "A continuación, vamos a identificar las variables que contienen observaciones faltantes. Este es un paso obligatorio en cualquier trabajo con datos sin importar el objetivo del análsis."
   ]
  },
  {
   "cell_type": "code",
   "execution_count": 7,
   "id": "530fbf5d",
   "metadata": {},
   "outputs": [],
   "source": [
    "def summary_nulls(df):\n",
    "    \n",
    "    missing_columns = pd.DataFrame()\n",
    "    total = df.shape[0]\n",
    "    \n",
    "    missing_columns['Variable'] = [col for col in df.columns if df[col].isnull().sum() > 0]\n",
    "    columns_nulls = missing_columns['Variable'].to_numpy()   \n",
    "    \n",
    "    missing_columns['Nulls'] = [df[col].isnull().sum() for col in columns_nulls]\n",
    "    missing_columns['Percentage'] = missing_columns['Nulls'].apply(lambda x: round((x / total) * 100, 3))\n",
    "    \n",
    "    missing_columns.sort_values(by = 'Percentage', ascending = False)\n",
    "    \n",
    "    return missing_columns"
   ]
  },
  {
   "cell_type": "code",
   "execution_count": 8,
   "id": "0d2af3ad",
   "metadata": {},
   "outputs": [
    {
     "data": {
      "text/html": [
       "<div>\n",
       "<style scoped>\n",
       "    .dataframe tbody tr th:only-of-type {\n",
       "        vertical-align: middle;\n",
       "    }\n",
       "\n",
       "    .dataframe tbody tr th {\n",
       "        vertical-align: top;\n",
       "    }\n",
       "\n",
       "    .dataframe thead th {\n",
       "        text-align: right;\n",
       "    }\n",
       "</style>\n",
       "<table border=\"1\" class=\"dataframe\">\n",
       "  <thead>\n",
       "    <tr style=\"text-align: right;\">\n",
       "      <th></th>\n",
       "      <th>Variable</th>\n",
       "      <th>Nulls</th>\n",
       "      <th>Percentage</th>\n",
       "    </tr>\n",
       "  </thead>\n",
       "  <tbody>\n",
       "    <tr>\n",
       "      <th>0</th>\n",
       "      <td>director</td>\n",
       "      <td>2634</td>\n",
       "      <td>29.9080</td>\n",
       "    </tr>\n",
       "    <tr>\n",
       "      <th>1</th>\n",
       "      <td>cast</td>\n",
       "      <td>825</td>\n",
       "      <td>9.3680</td>\n",
       "    </tr>\n",
       "    <tr>\n",
       "      <th>2</th>\n",
       "      <td>country</td>\n",
       "      <td>831</td>\n",
       "      <td>9.4360</td>\n",
       "    </tr>\n",
       "    <tr>\n",
       "      <th>3</th>\n",
       "      <td>date_added</td>\n",
       "      <td>10</td>\n",
       "      <td>0.1140</td>\n",
       "    </tr>\n",
       "    <tr>\n",
       "      <th>4</th>\n",
       "      <td>rating</td>\n",
       "      <td>4</td>\n",
       "      <td>0.0450</td>\n",
       "    </tr>\n",
       "    <tr>\n",
       "      <th>5</th>\n",
       "      <td>duration</td>\n",
       "      <td>3</td>\n",
       "      <td>0.0340</td>\n",
       "    </tr>\n",
       "  </tbody>\n",
       "</table>\n",
       "</div>"
      ],
      "text/plain": [
       "     Variable  Nulls  Percentage\n",
       "0    director   2634     29.9080\n",
       "1        cast    825      9.3680\n",
       "2     country    831      9.4360\n",
       "3  date_added     10      0.1140\n",
       "4      rating      4      0.0450\n",
       "5    duration      3      0.0340"
      ]
     },
     "execution_count": 8,
     "metadata": {},
     "output_type": "execute_result"
    }
   ],
   "source": [
    "summary_nulls(df)"
   ]
  },
  {
   "cell_type": "markdown",
   "id": "0f910097",
   "metadata": {},
   "source": [
    "La columna **director** es la que más obsevaciones faltantes tiene con un 29.9%. Son demasiados datos, por lo que, habrá que hacer algo con esa variable al igual que con las demás."
   ]
  },
  {
   "cell_type": "markdown",
   "id": "7fb77ee5",
   "metadata": {},
   "source": [
    "## Tratar los datos faltantes"
   ]
  },
  {
   "cell_type": "markdown",
   "id": "0230f4d8",
   "metadata": {},
   "source": [
    "Dado que hay 29.9% de valores faltantes en la variable \"director\", se procede a eliminar dicha columna. Pero antes, veamos el top 10 de los diez directores."
   ]
  },
  {
   "cell_type": "code",
   "execution_count": 9,
   "id": "982caeb5",
   "metadata": {},
   "outputs": [],
   "source": [
    "name_dirs = pd.DataFrame()\n",
    "\n",
    "name_dirs = df['director'].str.split(',', expand = True).stack()\n",
    "name_dirs = name_dirs.to_frame()\n",
    "name_dirs.columns = ['director']\n",
    "dirs = name_dirs.groupby('director').size().reset_index(name = 'Total')\n",
    "dirs = dirs[dirs['director'] != 'NaN']\n",
    "dirs = dirs.sort_values(by = 'Total', ascending = False)\n",
    "dirs_10 = dirs[:10]\n",
    "dirs_10 = dirs_10.sort_values(by = 'Total', ascending = False)"
   ]
  },
  {
   "cell_type": "code",
   "execution_count": 10,
   "id": "73e19215",
   "metadata": {},
   "outputs": [
    {
     "data": {
      "image/png": "[encoded data removed]",
      "text/plain": [
       "<Figure size 432x288 with 1 Axes>"
      ]
     },
     "metadata": {},
     "output_type": "display_data"
    }
   ],
   "source": [
    "sns.barplot(y = 'director', x = 'Total', data = dirs_10, orient = 'h', )\n",
    "plt.title('Top 10 Directores')\n",
    "plt.ylabel('Director')\n",
    "plt.xlabel('');"
   ]
  },
  {
   "cell_type": "markdown",
   "id": "8a959c67",
   "metadata": {},
   "source": [
    "Se hace lo mismo pero ahora con el elenco."
   ]
  },
  {
   "cell_type": "code",
   "execution_count": 11,
   "id": "f32683c0",
   "metadata": {},
   "outputs": [],
   "source": [
    "name_cast = pd.DataFrame()\n",
    "\n",
    "name_cast = df['cast'].str.split(',', expand = True).stack()\n",
    "name_cast = name_cast.to_frame()\n",
    "name_cast.columns = ['Actor']\n",
    "actors = name_cast.groupby('Actor').size().reset_index(name = 'Total')\n",
    "actors = actors[actors['Actor'] != 'NaN']\n",
    "actors = actors.sort_values(by = 'Total', ascending = False)\n",
    "actors_10 = actors[:10]\n",
    "actors_10 = actors_10.sort_values(by = 'Total', ascending = False)"
   ]
  },
  {
   "cell_type": "code",
   "execution_count": 12,
   "id": "0d229c3a",
   "metadata": {},
   "outputs": [
    {
     "data": {
      "image/png": "[encoded data removed]",
      "text/plain": [
       "<Figure size 432x288 with 1 Axes>"
      ]
     },
     "metadata": {},
     "output_type": "display_data"
    }
   ],
   "source": [
    "sns.barplot(y = 'Actor', x = 'Total', data = actors_10, orient = 'h', )\n",
    "plt.title('Top 10 Actores')\n",
    "plt.ylabel('Actor')\n",
    "plt.xlabel('');"
   ]
  },
  {
   "cell_type": "markdown",
   "id": "69b54f57",
   "metadata": {},
   "source": [
    "Ahora sí, se procede a eliminar la columna **director**, ya que tiene demasiados valores faltantes, además, para el presente trabajo no se requiere dicha variable."
   ]
  },
  {
   "cell_type": "code",
   "execution_count": 13,
   "id": "15fd5f5e",
   "metadata": {},
   "outputs": [
    {
     "data": {
      "text/html": [
       "<div>\n",
       "<style scoped>\n",
       "    .dataframe tbody tr th:only-of-type {\n",
       "        vertical-align: middle;\n",
       "    }\n",
       "\n",
       "    .dataframe tbody tr th {\n",
       "        vertical-align: top;\n",
       "    }\n",
       "\n",
       "    .dataframe thead th {\n",
       "        text-align: right;\n",
       "    }\n",
       "</style>\n",
       "<table border=\"1\" class=\"dataframe\">\n",
       "  <thead>\n",
       "    <tr style=\"text-align: right;\">\n",
       "      <th></th>\n",
       "      <th>show_id</th>\n",
       "      <th>type</th>\n",
       "      <th>title</th>\n",
       "      <th>cast</th>\n",
       "      <th>country</th>\n",
       "      <th>date_added</th>\n",
       "      <th>release_year</th>\n",
       "      <th>rating</th>\n",
       "      <th>duration</th>\n",
       "      <th>listed_in</th>\n",
       "      <th>description</th>\n",
       "    </tr>\n",
       "  </thead>\n",
       "  <tbody>\n",
       "    <tr>\n",
       "      <th>0</th>\n",
       "      <td>s1</td>\n",
       "      <td>Movie</td>\n",
       "      <td>Dick Johnson Is Dead</td>\n",
       "      <td>NaN</td>\n",
       "      <td>United States</td>\n",
       "      <td>September 25, 2021</td>\n",
       "      <td>2020</td>\n",
       "      <td>PG-13</td>\n",
       "      <td>90 min</td>\n",
       "      <td>Documentaries</td>\n",
       "      <td>As her father nears the end of his life, filmm...</td>\n",
       "    </tr>\n",
       "    <tr>\n",
       "      <th>1</th>\n",
       "      <td>s2</td>\n",
       "      <td>TV Show</td>\n",
       "      <td>Blood &amp; Water</td>\n",
       "      <td>Ama Qamata, Khosi Ngema, Gail Mabalane, Thaban...</td>\n",
       "      <td>South Africa</td>\n",
       "      <td>September 24, 2021</td>\n",
       "      <td>2021</td>\n",
       "      <td>TV-MA</td>\n",
       "      <td>2 Seasons</td>\n",
       "      <td>International TV Shows, TV Dramas, TV Mysteries</td>\n",
       "      <td>After crossing paths at a party, a Cape Town t...</td>\n",
       "    </tr>\n",
       "    <tr>\n",
       "      <th>2</th>\n",
       "      <td>s3</td>\n",
       "      <td>TV Show</td>\n",
       "      <td>Ganglands</td>\n",
       "      <td>Sami Bouajila, Tracy Gotoas, Samuel Jouy, Nabi...</td>\n",
       "      <td>NaN</td>\n",
       "      <td>September 24, 2021</td>\n",
       "      <td>2021</td>\n",
       "      <td>TV-MA</td>\n",
       "      <td>1 Season</td>\n",
       "      <td>Crime TV Shows, International TV Shows, TV Act...</td>\n",
       "      <td>To protect his family from a powerful drug lor...</td>\n",
       "    </tr>\n",
       "    <tr>\n",
       "      <th>3</th>\n",
       "      <td>s4</td>\n",
       "      <td>TV Show</td>\n",
       "      <td>Jailbirds New Orleans</td>\n",
       "      <td>NaN</td>\n",
       "      <td>NaN</td>\n",
       "      <td>September 24, 2021</td>\n",
       "      <td>2021</td>\n",
       "      <td>TV-MA</td>\n",
       "      <td>1 Season</td>\n",
       "      <td>Docuseries, Reality TV</td>\n",
       "      <td>Feuds, flirtations and toilet talk go down amo...</td>\n",
       "    </tr>\n",
       "    <tr>\n",
       "      <th>4</th>\n",
       "      <td>s5</td>\n",
       "      <td>TV Show</td>\n",
       "      <td>Kota Factory</td>\n",
       "      <td>Mayur More, Jitendra Kumar, Ranjan Raj, Alam K...</td>\n",
       "      <td>India</td>\n",
       "      <td>September 24, 2021</td>\n",
       "      <td>2021</td>\n",
       "      <td>TV-MA</td>\n",
       "      <td>2 Seasons</td>\n",
       "      <td>International TV Shows, Romantic TV Shows, TV ...</td>\n",
       "      <td>In a city of coaching centers known to train I...</td>\n",
       "    </tr>\n",
       "  </tbody>\n",
       "</table>\n",
       "</div>"
      ],
      "text/plain": [
       "  show_id     type                  title  \\\n",
       "0      s1    Movie   Dick Johnson Is Dead   \n",
       "1      s2  TV Show          Blood & Water   \n",
       "2      s3  TV Show              Ganglands   \n",
       "3      s4  TV Show  Jailbirds New Orleans   \n",
       "4      s5  TV Show           Kota Factory   \n",
       "\n",
       "                                                cast        country  \\\n",
       "0                                                NaN  United States   \n",
       "1  Ama Qamata, Khosi Ngema, Gail Mabalane, Thaban...   South Africa   \n",
       "2  Sami Bouajila, Tracy Gotoas, Samuel Jouy, Nabi...            NaN   \n",
       "3                                                NaN            NaN   \n",
       "4  Mayur More, Jitendra Kumar, Ranjan Raj, Alam K...          India   \n",
       "\n",
       "           date_added  release_year rating   duration  \\\n",
       "0  September 25, 2021          2020  PG-13     90 min   \n",
       "1  September 24, 2021          2021  TV-MA  2 Seasons   \n",
       "2  September 24, 2021          2021  TV-MA   1 Season   \n",
       "3  September 24, 2021          2021  TV-MA   1 Season   \n",
       "4  September 24, 2021          2021  TV-MA  2 Seasons   \n",
       "\n",
       "                                           listed_in  \\\n",
       "0                                      Documentaries   \n",
       "1    International TV Shows, TV Dramas, TV Mysteries   \n",
       "2  Crime TV Shows, International TV Shows, TV Act...   \n",
       "3                             Docuseries, Reality TV   \n",
       "4  International TV Shows, Romantic TV Shows, TV ...   \n",
       "\n",
       "                                         description  \n",
       "0  As her father nears the end of his life, filmm...  \n",
       "1  After crossing paths at a party, a Cape Town t...  \n",
       "2  To protect his family from a powerful drug lor...  \n",
       "3  Feuds, flirtations and toilet talk go down amo...  \n",
       "4  In a city of coaching centers known to train I...  "
      ]
     },
     "execution_count": 13,
     "metadata": {},
     "output_type": "execute_result"
    }
   ],
   "source": [
    "df.drop(columns = 'director', inplace = True)\n",
    "df.head(5)"
   ]
  },
  {
   "cell_type": "markdown",
   "id": "730bf4b6",
   "metadata": {},
   "source": [
    "A la columna \"rating\", se le reemplazarán los valores faltantes con la moda."
   ]
  },
  {
   "cell_type": "markdown",
   "id": "9b149ebe",
   "metadata": {},
   "source": [
    "Antes de la imputación"
   ]
  },
  {
   "cell_type": "code",
   "execution_count": 14,
   "id": "b047df8f",
   "metadata": {},
   "outputs": [
    {
     "data": {
      "text/plain": [
       "TV-MA       3207\n",
       "TV-14       2160\n",
       "TV-PG        863\n",
       "R            799\n",
       "PG-13        490\n",
       "TV-Y7        334\n",
       "TV-Y         307\n",
       "PG           287\n",
       "TV-G         220\n",
       "NR            80\n",
       "G             41\n",
       "TV-Y7-FV       6\n",
       "NaN            4\n",
       "NC-17          3\n",
       "UR             3\n",
       "74 min         1\n",
       "84 min         1\n",
       "66 min         1\n",
       "Name: rating, dtype: int64"
      ]
     },
     "execution_count": 14,
     "metadata": {},
     "output_type": "execute_result"
    }
   ],
   "source": [
    "df.rating.value_counts(dropna = False)"
   ]
  },
  {
   "cell_type": "code",
   "execution_count": 15,
   "id": "cf18f56a",
   "metadata": {},
   "outputs": [],
   "source": [
    "df.rating.fillna(df.rating.mode()[0], inplace = True)"
   ]
  },
  {
   "cell_type": "markdown",
   "id": "6ab280e2",
   "metadata": {},
   "source": [
    "Después de la imputación"
   ]
  },
  {
   "cell_type": "code",
   "execution_count": 16,
   "id": "1d6509dc",
   "metadata": {},
   "outputs": [
    {
     "data": {
      "text/plain": [
       "TV-MA       3211\n",
       "TV-14       2160\n",
       "TV-PG        863\n",
       "R            799\n",
       "PG-13        490\n",
       "TV-Y7        334\n",
       "TV-Y         307\n",
       "PG           287\n",
       "TV-G         220\n",
       "NR            80\n",
       "G             41\n",
       "TV-Y7-FV       6\n",
       "NC-17          3\n",
       "UR             3\n",
       "74 min         1\n",
       "84 min         1\n",
       "66 min         1\n",
       "Name: rating, dtype: int64"
      ]
     },
     "execution_count": 16,
     "metadata": {},
     "output_type": "execute_result"
    }
   ],
   "source": [
    "df.rating.value_counts(dropna = False)"
   ]
  },
  {
   "cell_type": "markdown",
   "id": "5af0e5b5",
   "metadata": {},
   "source": [
    "Como para la variable \"date_added\" solo hay 10 valores faltantes, se procede a eliminar esos registros. Veamos cuáles son."
   ]
  },
  {
   "cell_type": "code",
   "execution_count": 17,
   "id": "a48b7456",
   "metadata": {},
   "outputs": [
    {
     "data": {
      "text/html": [
       "<div>\n",
       "<style scoped>\n",
       "    .dataframe tbody tr th:only-of-type {\n",
       "        vertical-align: middle;\n",
       "    }\n",
       "\n",
       "    .dataframe tbody tr th {\n",
       "        vertical-align: top;\n",
       "    }\n",
       "\n",
       "    .dataframe thead th {\n",
       "        text-align: right;\n",
       "    }\n",
       "</style>\n",
       "<table border=\"1\" class=\"dataframe\">\n",
       "  <thead>\n",
       "    <tr style=\"text-align: right;\">\n",
       "      <th></th>\n",
       "      <th>show_id</th>\n",
       "      <th>type</th>\n",
       "      <th>title</th>\n",
       "      <th>cast</th>\n",
       "      <th>country</th>\n",
       "      <th>date_added</th>\n",
       "      <th>release_year</th>\n",
       "      <th>rating</th>\n",
       "      <th>duration</th>\n",
       "      <th>listed_in</th>\n",
       "      <th>description</th>\n",
       "    </tr>\n",
       "  </thead>\n",
       "  <tbody>\n",
       "    <tr>\n",
       "      <th>6066</th>\n",
       "      <td>s6067</td>\n",
       "      <td>TV Show</td>\n",
       "      <td>A Young Doctor's Notebook and Other Stories</td>\n",
       "      <td>Daniel Radcliffe, Jon Hamm, Adam Godley, Chris...</td>\n",
       "      <td>United Kingdom</td>\n",
       "      <td>NaN</td>\n",
       "      <td>2013</td>\n",
       "      <td>TV-MA</td>\n",
       "      <td>2 Seasons</td>\n",
       "      <td>British TV Shows, TV Comedies, TV Dramas</td>\n",
       "      <td>Set during the Russian Revolution, this comic ...</td>\n",
       "    </tr>\n",
       "    <tr>\n",
       "      <th>6174</th>\n",
       "      <td>s6175</td>\n",
       "      <td>TV Show</td>\n",
       "      <td>Anthony Bourdain: Parts Unknown</td>\n",
       "      <td>Anthony Bourdain</td>\n",
       "      <td>United States</td>\n",
       "      <td>NaN</td>\n",
       "      <td>2018</td>\n",
       "      <td>TV-PG</td>\n",
       "      <td>5 Seasons</td>\n",
       "      <td>Docuseries</td>\n",
       "      <td>This CNN original series has chef Anthony Bour...</td>\n",
       "    </tr>\n",
       "    <tr>\n",
       "      <th>6795</th>\n",
       "      <td>s6796</td>\n",
       "      <td>TV Show</td>\n",
       "      <td>Frasier</td>\n",
       "      <td>Kelsey Grammer, Jane Leeves, David Hyde Pierce...</td>\n",
       "      <td>United States</td>\n",
       "      <td>NaN</td>\n",
       "      <td>2003</td>\n",
       "      <td>TV-PG</td>\n",
       "      <td>11 Seasons</td>\n",
       "      <td>Classic &amp; Cult TV, TV Comedies</td>\n",
       "      <td>Frasier Crane is a snooty but lovable Seattle ...</td>\n",
       "    </tr>\n",
       "    <tr>\n",
       "      <th>6806</th>\n",
       "      <td>s6807</td>\n",
       "      <td>TV Show</td>\n",
       "      <td>Friends</td>\n",
       "      <td>Jennifer Aniston, Courteney Cox, Lisa Kudrow, ...</td>\n",
       "      <td>United States</td>\n",
       "      <td>NaN</td>\n",
       "      <td>2003</td>\n",
       "      <td>TV-14</td>\n",
       "      <td>10 Seasons</td>\n",
       "      <td>Classic &amp; Cult TV, TV Comedies</td>\n",
       "      <td>This hit sitcom follows the merry misadventure...</td>\n",
       "    </tr>\n",
       "    <tr>\n",
       "      <th>6901</th>\n",
       "      <td>s6902</td>\n",
       "      <td>TV Show</td>\n",
       "      <td>Gunslinger Girl</td>\n",
       "      <td>Yuuka Nanri, Kanako Mitsuhashi, Eri Sendai, Am...</td>\n",
       "      <td>Japan</td>\n",
       "      <td>NaN</td>\n",
       "      <td>2008</td>\n",
       "      <td>TV-14</td>\n",
       "      <td>2 Seasons</td>\n",
       "      <td>Anime Series, Crime TV Shows</td>\n",
       "      <td>On the surface, the Social Welfare Agency appe...</td>\n",
       "    </tr>\n",
       "    <tr>\n",
       "      <th>7196</th>\n",
       "      <td>s7197</td>\n",
       "      <td>TV Show</td>\n",
       "      <td>Kikoriki</td>\n",
       "      <td>Igor Dmitriev</td>\n",
       "      <td>NaN</td>\n",
       "      <td>NaN</td>\n",
       "      <td>2010</td>\n",
       "      <td>TV-Y</td>\n",
       "      <td>2 Seasons</td>\n",
       "      <td>Kids' TV</td>\n",
       "      <td>A wacky rabbit and his gang of animal pals hav...</td>\n",
       "    </tr>\n",
       "    <tr>\n",
       "      <th>7254</th>\n",
       "      <td>s7255</td>\n",
       "      <td>TV Show</td>\n",
       "      <td>La Familia P. Luche</td>\n",
       "      <td>Eugenio Derbez, Consuelo Duval, Luis Manuel Áv...</td>\n",
       "      <td>United States</td>\n",
       "      <td>NaN</td>\n",
       "      <td>2012</td>\n",
       "      <td>TV-14</td>\n",
       "      <td>3 Seasons</td>\n",
       "      <td>International TV Shows, Spanish-Language TV Sh...</td>\n",
       "      <td>This irreverent sitcom featues Ludovico, Feder...</td>\n",
       "    </tr>\n",
       "    <tr>\n",
       "      <th>7406</th>\n",
       "      <td>s7407</td>\n",
       "      <td>TV Show</td>\n",
       "      <td>Maron</td>\n",
       "      <td>Marc Maron, Judd Hirsch, Josh Brener, Nora Zeh...</td>\n",
       "      <td>United States</td>\n",
       "      <td>NaN</td>\n",
       "      <td>2016</td>\n",
       "      <td>TV-MA</td>\n",
       "      <td>4 Seasons</td>\n",
       "      <td>TV Comedies</td>\n",
       "      <td>Marc Maron stars as Marc Maron, who interviews...</td>\n",
       "    </tr>\n",
       "    <tr>\n",
       "      <th>7847</th>\n",
       "      <td>s7848</td>\n",
       "      <td>TV Show</td>\n",
       "      <td>Red vs. Blue</td>\n",
       "      <td>Burnie Burns, Jason Saldaña, Gustavo Sorola, G...</td>\n",
       "      <td>United States</td>\n",
       "      <td>NaN</td>\n",
       "      <td>2015</td>\n",
       "      <td>NR</td>\n",
       "      <td>13 Seasons</td>\n",
       "      <td>TV Action &amp; Adventure, TV Comedies, TV Sci-Fi ...</td>\n",
       "      <td>This parody of first-person shooter games, mil...</td>\n",
       "    </tr>\n",
       "    <tr>\n",
       "      <th>8182</th>\n",
       "      <td>s8183</td>\n",
       "      <td>TV Show</td>\n",
       "      <td>The Adventures of Figaro Pho</td>\n",
       "      <td>Luke Jurevicius, Craig Behenna, Charlotte Haml...</td>\n",
       "      <td>Australia</td>\n",
       "      <td>NaN</td>\n",
       "      <td>2015</td>\n",
       "      <td>TV-Y7</td>\n",
       "      <td>2 Seasons</td>\n",
       "      <td>Kids' TV, TV Comedies</td>\n",
       "      <td>Imagine your worst fears, then multiply them: ...</td>\n",
       "    </tr>\n",
       "  </tbody>\n",
       "</table>\n",
       "</div>"
      ],
      "text/plain": [
       "     show_id     type                                        title  \\\n",
       "6066   s6067  TV Show  A Young Doctor's Notebook and Other Stories   \n",
       "6174   s6175  TV Show              Anthony Bourdain: Parts Unknown   \n",
       "6795   s6796  TV Show                                      Frasier   \n",
       "6806   s6807  TV Show                                      Friends   \n",
       "6901   s6902  TV Show                              Gunslinger Girl   \n",
       "7196   s7197  TV Show                                     Kikoriki   \n",
       "7254   s7255  TV Show                          La Familia P. Luche   \n",
       "7406   s7407  TV Show                                        Maron   \n",
       "7847   s7848  TV Show                                 Red vs. Blue   \n",
       "8182   s8183  TV Show                 The Adventures of Figaro Pho   \n",
       "\n",
       "                                                   cast         country  \\\n",
       "6066  Daniel Radcliffe, Jon Hamm, Adam Godley, Chris...  United Kingdom   \n",
       "6174                                   Anthony Bourdain   United States   \n",
       "6795  Kelsey Grammer, Jane Leeves, David Hyde Pierce...   United States   \n",
       "6806  Jennifer Aniston, Courteney Cox, Lisa Kudrow, ...   United States   \n",
       "6901  Yuuka Nanri, Kanako Mitsuhashi, Eri Sendai, Am...           Japan   \n",
       "7196                                      Igor Dmitriev             NaN   \n",
       "7254  Eugenio Derbez, Consuelo Duval, Luis Manuel Áv...   United States   \n",
       "7406  Marc Maron, Judd Hirsch, Josh Brener, Nora Zeh...   United States   \n",
       "7847  Burnie Burns, Jason Saldaña, Gustavo Sorola, G...   United States   \n",
       "8182  Luke Jurevicius, Craig Behenna, Charlotte Haml...       Australia   \n",
       "\n",
       "     date_added  release_year rating    duration  \\\n",
       "6066        NaN          2013  TV-MA   2 Seasons   \n",
       "6174        NaN          2018  TV-PG   5 Seasons   \n",
       "6795        NaN          2003  TV-PG  11 Seasons   \n",
       "6806        NaN          2003  TV-14  10 Seasons   \n",
       "6901        NaN          2008  TV-14   2 Seasons   \n",
       "7196        NaN          2010   TV-Y   2 Seasons   \n",
       "7254        NaN          2012  TV-14   3 Seasons   \n",
       "7406        NaN          2016  TV-MA   4 Seasons   \n",
       "7847        NaN          2015     NR  13 Seasons   \n",
       "8182        NaN          2015  TV-Y7   2 Seasons   \n",
       "\n",
       "                                              listed_in  \\\n",
       "6066           British TV Shows, TV Comedies, TV Dramas   \n",
       "6174                                         Docuseries   \n",
       "6795                     Classic & Cult TV, TV Comedies   \n",
       "6806                     Classic & Cult TV, TV Comedies   \n",
       "6901                       Anime Series, Crime TV Shows   \n",
       "7196                                           Kids' TV   \n",
       "7254  International TV Shows, Spanish-Language TV Sh...   \n",
       "7406                                        TV Comedies   \n",
       "7847  TV Action & Adventure, TV Comedies, TV Sci-Fi ...   \n",
       "8182                              Kids' TV, TV Comedies   \n",
       "\n",
       "                                            description  \n",
       "6066  Set during the Russian Revolution, this comic ...  \n",
       "6174  This CNN original series has chef Anthony Bour...  \n",
       "6795  Frasier Crane is a snooty but lovable Seattle ...  \n",
       "6806  This hit sitcom follows the merry misadventure...  \n",
       "6901  On the surface, the Social Welfare Agency appe...  \n",
       "7196  A wacky rabbit and his gang of animal pals hav...  \n",
       "7254  This irreverent sitcom featues Ludovico, Feder...  \n",
       "7406  Marc Maron stars as Marc Maron, who interviews...  \n",
       "7847  This parody of first-person shooter games, mil...  \n",
       "8182  Imagine your worst fears, then multiply them: ...  "
      ]
     },
     "execution_count": 17,
     "metadata": {},
     "output_type": "execute_result"
    }
   ],
   "source": [
    "df[df['date_added'].isnull()]"
   ]
  },
  {
   "cell_type": "code",
   "execution_count": 18,
   "id": "6c870c88",
   "metadata": {},
   "outputs": [],
   "source": [
    "a_eliminar = df[df['date_added'].isnull()].index"
   ]
  },
  {
   "cell_type": "code",
   "execution_count": 19,
   "id": "202de4c9",
   "metadata": {},
   "outputs": [],
   "source": [
    "df.drop(index = a_eliminar, inplace = True)"
   ]
  },
  {
   "cell_type": "markdown",
   "id": "c31eec11",
   "metadata": {},
   "source": [
    "A las variables **cast** y **country** se les reemplazaran los valores faltantes con la etiqueta \"No Data Available\""
   ]
  },
  {
   "cell_type": "code",
   "execution_count": 20,
   "id": "b485764f",
   "metadata": {},
   "outputs": [],
   "source": [
    "df['cast'] = df['cast'].fillna(\"No Data Available\")\n",
    "df['country'] = df['country'].fillna(\"No Data Available\")"
   ]
  },
  {
   "cell_type": "markdown",
   "id": "37eeafc9",
   "metadata": {},
   "source": [
    "Finalmente, se eliminan también los registros faltantes de la variable **duration**, ya que solo hay 3."
   ]
  },
  {
   "cell_type": "code",
   "execution_count": 21,
   "id": "53bc8130",
   "metadata": {},
   "outputs": [],
   "source": [
    "df = df.dropna(subset = ['duration'])"
   ]
  },
  {
   "cell_type": "markdown",
   "id": "2e068002",
   "metadata": {},
   "source": [
    "Se revisa que ya no haya variables con valores faltantes."
   ]
  },
  {
   "cell_type": "code",
   "execution_count": 22,
   "id": "bb892545",
   "metadata": {},
   "outputs": [
    {
     "data": {
      "text/plain": [
       "show_id         0\n",
       "type            0\n",
       "title           0\n",
       "cast            0\n",
       "country         0\n",
       "date_added      0\n",
       "release_year    0\n",
       "rating          0\n",
       "duration        0\n",
       "listed_in       0\n",
       "description     0\n",
       "dtype: int64"
      ]
     },
     "execution_count": 22,
     "metadata": {},
     "output_type": "execute_result"
    }
   ],
   "source": [
    "df.isna().sum()"
   ]
  },
  {
   "cell_type": "code",
   "execution_count": 23,
   "id": "00d4531a",
   "metadata": {},
   "outputs": [
    {
     "data": {
      "text/html": [
       "<div>\n",
       "<style scoped>\n",
       "    .dataframe tbody tr th:only-of-type {\n",
       "        vertical-align: middle;\n",
       "    }\n",
       "\n",
       "    .dataframe tbody tr th {\n",
       "        vertical-align: top;\n",
       "    }\n",
       "\n",
       "    .dataframe thead th {\n",
       "        text-align: right;\n",
       "    }\n",
       "</style>\n",
       "<table border=\"1\" class=\"dataframe\">\n",
       "  <thead>\n",
       "    <tr style=\"text-align: right;\">\n",
       "      <th></th>\n",
       "      <th>show_id</th>\n",
       "      <th>type</th>\n",
       "      <th>title</th>\n",
       "      <th>cast</th>\n",
       "      <th>country</th>\n",
       "      <th>date_added</th>\n",
       "      <th>release_year</th>\n",
       "      <th>rating</th>\n",
       "      <th>duration</th>\n",
       "      <th>listed_in</th>\n",
       "      <th>description</th>\n",
       "    </tr>\n",
       "  </thead>\n",
       "  <tbody>\n",
       "    <tr>\n",
       "      <th>0</th>\n",
       "      <td>s1</td>\n",
       "      <td>Movie</td>\n",
       "      <td>Dick Johnson Is Dead</td>\n",
       "      <td>No Data Available</td>\n",
       "      <td>United States</td>\n",
       "      <td>September 25, 2021</td>\n",
       "      <td>2020</td>\n",
       "      <td>PG-13</td>\n",
       "      <td>90 min</td>\n",
       "      <td>Documentaries</td>\n",
       "      <td>As her father nears the end of his life, filmm...</td>\n",
       "    </tr>\n",
       "    <tr>\n",
       "      <th>1</th>\n",
       "      <td>s2</td>\n",
       "      <td>TV Show</td>\n",
       "      <td>Blood &amp; Water</td>\n",
       "      <td>Ama Qamata, Khosi Ngema, Gail Mabalane, Thaban...</td>\n",
       "      <td>South Africa</td>\n",
       "      <td>September 24, 2021</td>\n",
       "      <td>2021</td>\n",
       "      <td>TV-MA</td>\n",
       "      <td>2 Seasons</td>\n",
       "      <td>International TV Shows, TV Dramas, TV Mysteries</td>\n",
       "      <td>After crossing paths at a party, a Cape Town t...</td>\n",
       "    </tr>\n",
       "    <tr>\n",
       "      <th>2</th>\n",
       "      <td>s3</td>\n",
       "      <td>TV Show</td>\n",
       "      <td>Ganglands</td>\n",
       "      <td>Sami Bouajila, Tracy Gotoas, Samuel Jouy, Nabi...</td>\n",
       "      <td>No Data Available</td>\n",
       "      <td>September 24, 2021</td>\n",
       "      <td>2021</td>\n",
       "      <td>TV-MA</td>\n",
       "      <td>1 Season</td>\n",
       "      <td>Crime TV Shows, International TV Shows, TV Act...</td>\n",
       "      <td>To protect his family from a powerful drug lor...</td>\n",
       "    </tr>\n",
       "    <tr>\n",
       "      <th>3</th>\n",
       "      <td>s4</td>\n",
       "      <td>TV Show</td>\n",
       "      <td>Jailbirds New Orleans</td>\n",
       "      <td>No Data Available</td>\n",
       "      <td>No Data Available</td>\n",
       "      <td>September 24, 2021</td>\n",
       "      <td>2021</td>\n",
       "      <td>TV-MA</td>\n",
       "      <td>1 Season</td>\n",
       "      <td>Docuseries, Reality TV</td>\n",
       "      <td>Feuds, flirtations and toilet talk go down amo...</td>\n",
       "    </tr>\n",
       "    <tr>\n",
       "      <th>4</th>\n",
       "      <td>s5</td>\n",
       "      <td>TV Show</td>\n",
       "      <td>Kota Factory</td>\n",
       "      <td>Mayur More, Jitendra Kumar, Ranjan Raj, Alam K...</td>\n",
       "      <td>India</td>\n",
       "      <td>September 24, 2021</td>\n",
       "      <td>2021</td>\n",
       "      <td>TV-MA</td>\n",
       "      <td>2 Seasons</td>\n",
       "      <td>International TV Shows, Romantic TV Shows, TV ...</td>\n",
       "      <td>In a city of coaching centers known to train I...</td>\n",
       "    </tr>\n",
       "  </tbody>\n",
       "</table>\n",
       "</div>"
      ],
      "text/plain": [
       "  show_id     type                  title  \\\n",
       "0      s1    Movie   Dick Johnson Is Dead   \n",
       "1      s2  TV Show          Blood & Water   \n",
       "2      s3  TV Show              Ganglands   \n",
       "3      s4  TV Show  Jailbirds New Orleans   \n",
       "4      s5  TV Show           Kota Factory   \n",
       "\n",
       "                                                cast            country  \\\n",
       "0                                  No Data Available      United States   \n",
       "1  Ama Qamata, Khosi Ngema, Gail Mabalane, Thaban...       South Africa   \n",
       "2  Sami Bouajila, Tracy Gotoas, Samuel Jouy, Nabi...  No Data Available   \n",
       "3                                  No Data Available  No Data Available   \n",
       "4  Mayur More, Jitendra Kumar, Ranjan Raj, Alam K...              India   \n",
       "\n",
       "           date_added  release_year rating   duration  \\\n",
       "0  September 25, 2021          2020  PG-13     90 min   \n",
       "1  September 24, 2021          2021  TV-MA  2 Seasons   \n",
       "2  September 24, 2021          2021  TV-MA   1 Season   \n",
       "3  September 24, 2021          2021  TV-MA   1 Season   \n",
       "4  September 24, 2021          2021  TV-MA  2 Seasons   \n",
       "\n",
       "                                           listed_in  \\\n",
       "0                                      Documentaries   \n",
       "1    International TV Shows, TV Dramas, TV Mysteries   \n",
       "2  Crime TV Shows, International TV Shows, TV Act...   \n",
       "3                             Docuseries, Reality TV   \n",
       "4  International TV Shows, Romantic TV Shows, TV ...   \n",
       "\n",
       "                                         description  \n",
       "0  As her father nears the end of his life, filmm...  \n",
       "1  After crossing paths at a party, a Cape Town t...  \n",
       "2  To protect his family from a powerful drug lor...  \n",
       "3  Feuds, flirtations and toilet talk go down amo...  \n",
       "4  In a city of coaching centers known to train I...  "
      ]
     },
     "execution_count": 23,
     "metadata": {},
     "output_type": "execute_result"
    }
   ],
   "source": [
    "df.head(5)"
   ]
  },
  {
   "cell_type": "markdown",
   "id": "a8ebfcea",
   "metadata": {},
   "source": [
    "Validamos que no haya registros duplicados."
   ]
  },
  {
   "cell_type": "code",
   "execution_count": 24,
   "id": "b2614a47",
   "metadata": {},
   "outputs": [
    {
     "data": {
      "text/plain": [
       "0"
      ]
     },
     "execution_count": 24,
     "metadata": {},
     "output_type": "execute_result"
    }
   ],
   "source": [
    "df.duplicated().sum()"
   ]
  },
  {
   "cell_type": "code",
   "execution_count": 25,
   "id": "e8aabd28",
   "metadata": {},
   "outputs": [
    {
     "name": "stdout",
     "output_type": "stream",
     "text": [
      "Quedan 8794 registros y 11 variables\n"
     ]
    }
   ],
   "source": [
    "print(\"Quedan {} registros y {} variables\".format(df.shape[0], df.shape[1]))"
   ]
  },
  {
   "cell_type": "markdown",
   "id": "fa4e6cbd",
   "metadata": {},
   "source": [
    "## Identificación de valores atípicos"
   ]
  },
  {
   "cell_type": "markdown",
   "id": "bc931d67",
   "metadata": {},
   "source": [
    "Hay que recordar que un valor atípico es aquel que difiere del resto de las observaciones dentro de su misma variable.\n",
    "\n",
    "Se empezará con la variable **duration** solo que dicha variable contiene dos tipos de medida, los minutos para el tipo Movie y las temporadas para el tipo TV Show, por lo que, para facilitar el análisis se dividirá el archivo en dos conjuntos de datos, uno por cada tipo de producción."
   ]
  },
  {
   "cell_type": "markdown",
   "id": "e8cb54a1",
   "metadata": {},
   "source": [
    "Primero las películas"
   ]
  },
  {
   "cell_type": "code",
   "execution_count": 26,
   "id": "2c19ea38",
   "metadata": {},
   "outputs": [],
   "source": [
    "df_Movie = df[df['type'] == 'Movie'].copy()"
   ]
  },
  {
   "cell_type": "code",
   "execution_count": 27,
   "id": "513efabe",
   "metadata": {},
   "outputs": [
    {
     "data": {
      "text/plain": [
       "(6128, 11)"
      ]
     },
     "execution_count": 27,
     "metadata": {},
     "output_type": "execute_result"
    }
   ],
   "source": [
    "df_Movie.shape"
   ]
  },
  {
   "cell_type": "markdown",
   "id": "45baa1c6",
   "metadata": {},
   "source": [
    "Se creará una columna numérica sólo con los minutos de la columna duration"
   ]
  },
  {
   "cell_type": "code",
   "execution_count": 28,
   "id": "09b85534",
   "metadata": {},
   "outputs": [],
   "source": [
    "df_Movie = df_Movie.assign(minute = df_Movie['duration'].str.extract(r'(\\d+)',\n",
    "                                                                     expand = False).astype(int))"
   ]
  },
  {
   "cell_type": "code",
   "execution_count": 29,
   "id": "32275c61",
   "metadata": {},
   "outputs": [
    {
     "data": {
      "text/html": [
       "<div>\n",
       "<style scoped>\n",
       "    .dataframe tbody tr th:only-of-type {\n",
       "        vertical-align: middle;\n",
       "    }\n",
       "\n",
       "    .dataframe tbody tr th {\n",
       "        vertical-align: top;\n",
       "    }\n",
       "\n",
       "    .dataframe thead th {\n",
       "        text-align: right;\n",
       "    }\n",
       "</style>\n",
       "<table border=\"1\" class=\"dataframe\">\n",
       "  <thead>\n",
       "    <tr style=\"text-align: right;\">\n",
       "      <th></th>\n",
       "      <th>show_id</th>\n",
       "      <th>type</th>\n",
       "      <th>title</th>\n",
       "      <th>cast</th>\n",
       "      <th>country</th>\n",
       "      <th>date_added</th>\n",
       "      <th>release_year</th>\n",
       "      <th>rating</th>\n",
       "      <th>duration</th>\n",
       "      <th>listed_in</th>\n",
       "      <th>description</th>\n",
       "      <th>minute</th>\n",
       "    </tr>\n",
       "  </thead>\n",
       "  <tbody>\n",
       "    <tr>\n",
       "      <th>0</th>\n",
       "      <td>s1</td>\n",
       "      <td>Movie</td>\n",
       "      <td>Dick Johnson Is Dead</td>\n",
       "      <td>No Data Available</td>\n",
       "      <td>United States</td>\n",
       "      <td>September 25, 2021</td>\n",
       "      <td>2020</td>\n",
       "      <td>PG-13</td>\n",
       "      <td>90 min</td>\n",
       "      <td>Documentaries</td>\n",
       "      <td>As her father nears the end of his life, filmm...</td>\n",
       "      <td>90</td>\n",
       "    </tr>\n",
       "    <tr>\n",
       "      <th>6</th>\n",
       "      <td>s7</td>\n",
       "      <td>Movie</td>\n",
       "      <td>My Little Pony: A New Generation</td>\n",
       "      <td>Vanessa Hudgens, Kimiko Glenn, James Marsden, ...</td>\n",
       "      <td>No Data Available</td>\n",
       "      <td>September 24, 2021</td>\n",
       "      <td>2021</td>\n",
       "      <td>PG</td>\n",
       "      <td>91 min</td>\n",
       "      <td>Children &amp; Family Movies</td>\n",
       "      <td>Equestria's divided. But a bright-eyed hero be...</td>\n",
       "      <td>91</td>\n",
       "    </tr>\n",
       "    <tr>\n",
       "      <th>7</th>\n",
       "      <td>s8</td>\n",
       "      <td>Movie</td>\n",
       "      <td>Sankofa</td>\n",
       "      <td>Kofi Ghanaba, Oyafunmike Ogunlano, Alexandra D...</td>\n",
       "      <td>United States, Ghana, Burkina Faso, United Kin...</td>\n",
       "      <td>September 24, 2021</td>\n",
       "      <td>1993</td>\n",
       "      <td>TV-MA</td>\n",
       "      <td>125 min</td>\n",
       "      <td>Dramas, Independent Movies, International Movies</td>\n",
       "      <td>On a photo shoot in Ghana, an American model s...</td>\n",
       "      <td>125</td>\n",
       "    </tr>\n",
       "    <tr>\n",
       "      <th>9</th>\n",
       "      <td>s10</td>\n",
       "      <td>Movie</td>\n",
       "      <td>The Starling</td>\n",
       "      <td>Melissa McCarthy, Chris O'Dowd, Kevin Kline, T...</td>\n",
       "      <td>United States</td>\n",
       "      <td>September 24, 2021</td>\n",
       "      <td>2021</td>\n",
       "      <td>PG-13</td>\n",
       "      <td>104 min</td>\n",
       "      <td>Comedies, Dramas</td>\n",
       "      <td>A woman adjusting to life after a loss contend...</td>\n",
       "      <td>104</td>\n",
       "    </tr>\n",
       "    <tr>\n",
       "      <th>12</th>\n",
       "      <td>s13</td>\n",
       "      <td>Movie</td>\n",
       "      <td>Je Suis Karl</td>\n",
       "      <td>Luna Wedler, Jannis Niewöhner, Milan Peschel, ...</td>\n",
       "      <td>Germany, Czech Republic</td>\n",
       "      <td>September 23, 2021</td>\n",
       "      <td>2021</td>\n",
       "      <td>TV-MA</td>\n",
       "      <td>127 min</td>\n",
       "      <td>Dramas, International Movies</td>\n",
       "      <td>After most of her family is murdered in a terr...</td>\n",
       "      <td>127</td>\n",
       "    </tr>\n",
       "  </tbody>\n",
       "</table>\n",
       "</div>"
      ],
      "text/plain": [
       "   show_id   type                             title  \\\n",
       "0       s1  Movie              Dick Johnson Is Dead   \n",
       "6       s7  Movie  My Little Pony: A New Generation   \n",
       "7       s8  Movie                           Sankofa   \n",
       "9      s10  Movie                      The Starling   \n",
       "12     s13  Movie                      Je Suis Karl   \n",
       "\n",
       "                                                 cast  \\\n",
       "0                                   No Data Available   \n",
       "6   Vanessa Hudgens, Kimiko Glenn, James Marsden, ...   \n",
       "7   Kofi Ghanaba, Oyafunmike Ogunlano, Alexandra D...   \n",
       "9   Melissa McCarthy, Chris O'Dowd, Kevin Kline, T...   \n",
       "12  Luna Wedler, Jannis Niewöhner, Milan Peschel, ...   \n",
       "\n",
       "                                              country          date_added  \\\n",
       "0                                       United States  September 25, 2021   \n",
       "6                                   No Data Available  September 24, 2021   \n",
       "7   United States, Ghana, Burkina Faso, United Kin...  September 24, 2021   \n",
       "9                                       United States  September 24, 2021   \n",
       "12                            Germany, Czech Republic  September 23, 2021   \n",
       "\n",
       "    release_year rating duration  \\\n",
       "0           2020  PG-13   90 min   \n",
       "6           2021     PG   91 min   \n",
       "7           1993  TV-MA  125 min   \n",
       "9           2021  PG-13  104 min   \n",
       "12          2021  TV-MA  127 min   \n",
       "\n",
       "                                           listed_in  \\\n",
       "0                                      Documentaries   \n",
       "6                           Children & Family Movies   \n",
       "7   Dramas, Independent Movies, International Movies   \n",
       "9                                   Comedies, Dramas   \n",
       "12                      Dramas, International Movies   \n",
       "\n",
       "                                          description  minute  \n",
       "0   As her father nears the end of his life, filmm...      90  \n",
       "6   Equestria's divided. But a bright-eyed hero be...      91  \n",
       "7   On a photo shoot in Ghana, an American model s...     125  \n",
       "9   A woman adjusting to life after a loss contend...     104  \n",
       "12  After most of her family is murdered in a terr...     127  "
      ]
     },
     "execution_count": 29,
     "metadata": {},
     "output_type": "execute_result"
    }
   ],
   "source": [
    "df_Movie.head(5)"
   ]
  },
  {
   "cell_type": "markdown",
   "id": "886fa0f0",
   "metadata": {},
   "source": [
    "Para ver visualmente la distribución de los minutos de las películas se hace un histograma."
   ]
  },
  {
   "cell_type": "code",
   "execution_count": 30,
   "id": "8795aa5b",
   "metadata": {},
   "outputs": [
    {
     "data": {
      "image/png": "[encoded data removed]",
      "text/plain": [
       "<Figure size 864x432 with 1 Axes>"
      ]
     },
     "metadata": {},
     "output_type": "display_data"
    }
   ],
   "source": [
    "f, ax = plt.subplots(figsize = (12, 6))\n",
    "\n",
    "ax.hist(df_Movie['minute'], color = 'teal', edgecolor = 'white')\n",
    "plt.xticks(np.arange(3, 320, 31), fontsize = 12)\n",
    "ax.set_title('Distribución Minutos por Película')\n",
    "ax.set_xlabel('Duración (minutos)')\n",
    "ax.set_ylabel('Número de Películas');"
   ]
  },
  {
   "cell_type": "markdown",
   "id": "d77fbeef",
   "metadata": {},
   "source": [
    "En la gráfica anterior, se aprecia que la mayoría de las películas tiene una duración de entre 96 y 127 minutos. Son muy pocas películas las que tienen una duracion mayor a 189 minutos."
   ]
  },
  {
   "cell_type": "markdown",
   "id": "05253cf0",
   "metadata": {},
   "source": [
    "Veamos el top 10 de películas con menor duración:"
   ]
  },
  {
   "cell_type": "code",
   "execution_count": 31,
   "id": "77d8d2c8",
   "metadata": {},
   "outputs": [
    {
     "data": {
      "text/html": [
       "<div>\n",
       "<style scoped>\n",
       "    .dataframe tbody tr th:only-of-type {\n",
       "        vertical-align: middle;\n",
       "    }\n",
       "\n",
       "    .dataframe tbody tr th {\n",
       "        vertical-align: top;\n",
       "    }\n",
       "\n",
       "    .dataframe thead th {\n",
       "        text-align: right;\n",
       "    }\n",
       "</style>\n",
       "<table border=\"1\" class=\"dataframe\">\n",
       "  <thead>\n",
       "    <tr style=\"text-align: right;\">\n",
       "      <th></th>\n",
       "      <th>minute</th>\n",
       "      <th>title</th>\n",
       "      <th>movies</th>\n",
       "    </tr>\n",
       "  </thead>\n",
       "  <tbody>\n",
       "    <tr>\n",
       "      <th>0</th>\n",
       "      <td>3</td>\n",
       "      <td>Silent</td>\n",
       "      <td>1</td>\n",
       "    </tr>\n",
       "    <tr>\n",
       "      <th>1</th>\n",
       "      <td>5</td>\n",
       "      <td>Sol Levante</td>\n",
       "      <td>1</td>\n",
       "    </tr>\n",
       "    <tr>\n",
       "      <th>2</th>\n",
       "      <td>8</td>\n",
       "      <td>Cops and Robbers</td>\n",
       "      <td>1</td>\n",
       "    </tr>\n",
       "    <tr>\n",
       "      <th>3</th>\n",
       "      <td>9</td>\n",
       "      <td>Canvas</td>\n",
       "      <td>1</td>\n",
       "    </tr>\n",
       "    <tr>\n",
       "      <th>4</th>\n",
       "      <td>10</td>\n",
       "      <td>American Factory: A Conversation with the Obamas</td>\n",
       "      <td>1</td>\n",
       "    </tr>\n",
       "    <tr>\n",
       "      <th>5</th>\n",
       "      <td>11</td>\n",
       "      <td>Calico Critters: A Town of Dreams</td>\n",
       "      <td>1</td>\n",
       "    </tr>\n",
       "    <tr>\n",
       "      <th>6</th>\n",
       "      <td>11</td>\n",
       "      <td>Calico Critters: Everyone's Big Dream Flying i...</td>\n",
       "      <td>1</td>\n",
       "    </tr>\n",
       "    <tr>\n",
       "      <th>7</th>\n",
       "      <td>12</td>\n",
       "      <td>Besieged Bread</td>\n",
       "      <td>1</td>\n",
       "    </tr>\n",
       "    <tr>\n",
       "      <th>8</th>\n",
       "      <td>12</td>\n",
       "      <td>Cosmos Laundromat: First Cycle</td>\n",
       "      <td>1</td>\n",
       "    </tr>\n",
       "    <tr>\n",
       "      <th>9</th>\n",
       "      <td>12</td>\n",
       "      <td>Zion</td>\n",
       "      <td>1</td>\n",
       "    </tr>\n",
       "  </tbody>\n",
       "</table>\n",
       "</div>"
      ],
      "text/plain": [
       "   minute                                              title  movies\n",
       "0       3                                             Silent       1\n",
       "1       5                                        Sol Levante       1\n",
       "2       8                                   Cops and Robbers       1\n",
       "3       9                                             Canvas       1\n",
       "4      10   American Factory: A Conversation with the Obamas       1\n",
       "5      11                  Calico Critters: A Town of Dreams       1\n",
       "6      11  Calico Critters: Everyone's Big Dream Flying i...       1\n",
       "7      12                                     Besieged Bread       1\n",
       "8      12                     Cosmos Laundromat: First Cycle       1\n",
       "9      12                                               Zion       1"
      ]
     },
     "execution_count": 31,
     "metadata": {},
     "output_type": "execute_result"
    }
   ],
   "source": [
    "(df_Movie.groupby(['minute','title'], as_index = False)['duration']\n",
    "     .count()\n",
    "     .rename(columns = {'duration':'movies'})\n",
    "     .sort_values(by = 'minute')\n",
    "     .head(10))"
   ]
  },
  {
   "cell_type": "markdown",
   "id": "8f18f39a",
   "metadata": {},
   "source": [
    "Ahora, el top 10 con mayor duración:"
   ]
  },
  {
   "cell_type": "code",
   "execution_count": 32,
   "id": "635b692d",
   "metadata": {},
   "outputs": [
    {
     "data": {
      "text/html": [
       "<div>\n",
       "<style scoped>\n",
       "    .dataframe tbody tr th:only-of-type {\n",
       "        vertical-align: middle;\n",
       "    }\n",
       "\n",
       "    .dataframe tbody tr th {\n",
       "        vertical-align: top;\n",
       "    }\n",
       "\n",
       "    .dataframe thead th {\n",
       "        text-align: right;\n",
       "    }\n",
       "</style>\n",
       "<table border=\"1\" class=\"dataframe\">\n",
       "  <thead>\n",
       "    <tr style=\"text-align: right;\">\n",
       "      <th></th>\n",
       "      <th>minute</th>\n",
       "      <th>title</th>\n",
       "      <th>movies</th>\n",
       "    </tr>\n",
       "  </thead>\n",
       "  <tbody>\n",
       "    <tr>\n",
       "      <th>6118</th>\n",
       "      <td>214</td>\n",
       "      <td>Jodhaa Akbar</td>\n",
       "      <td>1</td>\n",
       "    </tr>\n",
       "    <tr>\n",
       "      <th>6119</th>\n",
       "      <td>224</td>\n",
       "      <td>Lagaan</td>\n",
       "      <td>1</td>\n",
       "    </tr>\n",
       "    <tr>\n",
       "      <th>6120</th>\n",
       "      <td>228</td>\n",
       "      <td>Sangam</td>\n",
       "      <td>1</td>\n",
       "    </tr>\n",
       "    <tr>\n",
       "      <th>6121</th>\n",
       "      <td>229</td>\n",
       "      <td>Once Upon a Time in America</td>\n",
       "      <td>1</td>\n",
       "    </tr>\n",
       "    <tr>\n",
       "      <th>6122</th>\n",
       "      <td>230</td>\n",
       "      <td>Raya and Sakina</td>\n",
       "      <td>1</td>\n",
       "    </tr>\n",
       "    <tr>\n",
       "      <th>6123</th>\n",
       "      <td>233</td>\n",
       "      <td>Lock Your Girls In</td>\n",
       "      <td>1</td>\n",
       "    </tr>\n",
       "    <tr>\n",
       "      <th>6124</th>\n",
       "      <td>237</td>\n",
       "      <td>No Longer kids</td>\n",
       "      <td>1</td>\n",
       "    </tr>\n",
       "    <tr>\n",
       "      <th>6125</th>\n",
       "      <td>253</td>\n",
       "      <td>The School of Mischief</td>\n",
       "      <td>1</td>\n",
       "    </tr>\n",
       "    <tr>\n",
       "      <th>6126</th>\n",
       "      <td>273</td>\n",
       "      <td>Headspace: Unwind Your Mind</td>\n",
       "      <td>1</td>\n",
       "    </tr>\n",
       "    <tr>\n",
       "      <th>6127</th>\n",
       "      <td>312</td>\n",
       "      <td>Black Mirror: Bandersnatch</td>\n",
       "      <td>1</td>\n",
       "    </tr>\n",
       "  </tbody>\n",
       "</table>\n",
       "</div>"
      ],
      "text/plain": [
       "      minute                        title  movies\n",
       "6118     214                 Jodhaa Akbar       1\n",
       "6119     224                       Lagaan       1\n",
       "6120     228                       Sangam       1\n",
       "6121     229  Once Upon a Time in America       1\n",
       "6122     230              Raya and Sakina       1\n",
       "6123     233           Lock Your Girls In       1\n",
       "6124     237               No Longer kids       1\n",
       "6125     253       The School of Mischief       1\n",
       "6126     273  Headspace: Unwind Your Mind       1\n",
       "6127     312   Black Mirror: Bandersnatch       1"
      ]
     },
     "execution_count": 32,
     "metadata": {},
     "output_type": "execute_result"
    }
   ],
   "source": [
    "(df_Movie.groupby(['minute','title'], as_index = False)['duration']\n",
    "     .count()\n",
    "     .rename(columns = {'duration':'movies'})\n",
    "     .sort_values(by = 'minute')\n",
    "     .tail(10))"
   ]
  },
  {
   "cell_type": "markdown",
   "id": "45ce8424",
   "metadata": {},
   "source": [
    "Otra opción es ver los minutos con apoyo de un boxplot."
   ]
  },
  {
   "cell_type": "code",
   "execution_count": 33,
   "id": "9b611c63",
   "metadata": {},
   "outputs": [
    {
     "data": {
      "image/png": "[encoded data removed]",
      "text/plain": [
       "<Figure size 864x432 with 1 Axes>"
      ]
     },
     "metadata": {},
     "output_type": "display_data"
    }
   ],
   "source": [
    "f, ax = plt.subplots(figsize = (12, 6))\n",
    "\n",
    "ax = sns.boxplot(x  =df_Movie['minute'])\n",
    "ax.set_title('Boxplot minutes')\n",
    "ax.set_xlabel('Duration (minutos)');"
   ]
  },
  {
   "cell_type": "code",
   "execution_count": 34,
   "id": "a899e463",
   "metadata": {},
   "outputs": [
    {
     "data": {
      "text/plain": [
       "count   6,128.0000\n",
       "mean       99.5772\n",
       "std        28.2906\n",
       "min         3.0000\n",
       "25%        87.0000\n",
       "50%        98.0000\n",
       "75%       114.0000\n",
       "max       312.0000\n",
       "Name: minute, dtype: float64"
      ]
     },
     "execution_count": 34,
     "metadata": {},
     "output_type": "execute_result"
    }
   ],
   "source": [
    "df_Movie.minute.describe()"
   ]
  },
  {
   "cell_type": "markdown",
   "id": "e412341d",
   "metadata": {},
   "source": [
    "Ahora, se analiza la variable categórica **rating**. En las variables categóricas, los valores atípicos se refiere a categorías o cardinalidades muy bajas, por tanto, mediante un diagrama de barras visualizaremos dicha variable."
   ]
  },
  {
   "cell_type": "code",
   "execution_count": 35,
   "id": "76b86980",
   "metadata": {},
   "outputs": [
    {
     "data": {
      "image/png": "[encoded data removed]",
      "text/plain": [
       "<Figure size 864x432 with 1 Axes>"
      ]
     },
     "metadata": {},
     "output_type": "display_data"
    }
   ],
   "source": [
    "f, ax = plt.subplots(figsize = (12,6 ))\n",
    "\n",
    "df_Movie.rating.value_counts().plot.bar(color = 'steelblue',\n",
    "                                       title = 'Distribución rating');"
   ]
  },
  {
   "cell_type": "markdown",
   "id": "258894af",
   "metadata": {},
   "source": [
    "<div class=text-justify>\n",
    "En la gráfica de barras se aprecia que las categorías con menor frecuencia son TV-Y7-FV, UR, NC-17. En un análisis por ejemplo, de clúster sería recomendable agrupar las categorías con poca frecuencia en una categoría de 'Otros', ya que los algoritmos batallan con variables que tienen este tipo de cardinalidades.\n",
    "</div>"
   ]
  },
  {
   "cell_type": "markdown",
   "id": "b90b9289",
   "metadata": {},
   "source": [
    "Con apoyo de una tabla de frecuencias se muestran dichos conteos."
   ]
  },
  {
   "cell_type": "code",
   "execution_count": 36,
   "id": "bf03c639",
   "metadata": {},
   "outputs": [
    {
     "data": {
      "text/plain": [
       "TV-MA       2064\n",
       "TV-14       1427\n",
       "R            797\n",
       "TV-PG        540\n",
       "PG-13        490\n",
       "PG           287\n",
       "TV-Y7        139\n",
       "TV-Y         131\n",
       "TV-G         126\n",
       "NR            75\n",
       "G             41\n",
       "TV-Y7-FV       5\n",
       "NC-17          3\n",
       "UR             3\n",
       "Name: rating, dtype: int64"
      ]
     },
     "execution_count": 36,
     "metadata": {},
     "output_type": "execute_result"
    }
   ],
   "source": [
    "df_Movie.rating.value_counts()"
   ]
  },
  {
   "cell_type": "markdown",
   "id": "18eb57d0",
   "metadata": {},
   "source": [
    "Ahora, se analiza la parte de los programas de TV."
   ]
  },
  {
   "cell_type": "code",
   "execution_count": 37,
   "id": "10a3e6f8",
   "metadata": {},
   "outputs": [],
   "source": [
    "df_TV = df[df['type'] == 'TV Show'].copy()"
   ]
  },
  {
   "cell_type": "code",
   "execution_count": 38,
   "id": "47fe17c3",
   "metadata": {},
   "outputs": [
    {
     "data": {
      "text/plain": [
       "(2666, 11)"
      ]
     },
     "execution_count": 38,
     "metadata": {},
     "output_type": "execute_result"
    }
   ],
   "source": [
    "df_TV.shape"
   ]
  },
  {
   "cell_type": "code",
   "execution_count": 39,
   "id": "9874e41a",
   "metadata": {},
   "outputs": [
    {
     "data": {
      "image/png": "[encoded data removed]",
      "text/plain": [
       "<Figure size 864x432 with 1 Axes>"
      ]
     },
     "metadata": {},
     "output_type": "display_data"
    }
   ],
   "source": [
    "f, ax = plt.subplots(figsize = (12,6 ))\n",
    "\n",
    "df_TV['duration'].value_counts().plot.bar(color = 'steelblue',\n",
    "                                       title = 'Distribución Temporadas');"
   ]
  },
  {
   "cell_type": "markdown",
   "id": "8bb6f01c",
   "metadata": {},
   "source": [
    "En la gráfica anterior, se aprecia que son pocas las series de TV que duran más de 10 temporadas."
   ]
  },
  {
   "cell_type": "code",
   "execution_count": 40,
   "id": "f3c023e3",
   "metadata": {},
   "outputs": [
    {
     "data": {
      "text/plain": [
       "1 Season      1793\n",
       "2 Seasons      421\n",
       "3 Seasons      198\n",
       "4 Seasons       94\n",
       "5 Seasons       64\n",
       "6 Seasons       33\n",
       "7 Seasons       23\n",
       "8 Seasons       17\n",
       "9 Seasons        9\n",
       "10 Seasons       6\n",
       "13 Seasons       2\n",
       "15 Seasons       2\n",
       "12 Seasons       2\n",
       "17 Seasons       1\n",
       "11 Seasons       1\n",
       "Name: duration, dtype: int64"
      ]
     },
     "execution_count": 40,
     "metadata": {},
     "output_type": "execute_result"
    }
   ],
   "source": [
    "df_TV.duration.value_counts()"
   ]
  },
  {
   "cell_type": "markdown",
   "id": "7da6f0a5",
   "metadata": {},
   "source": [
    "# Análisis descriptivo"
   ]
  },
  {
   "cell_type": "markdown",
   "id": "05468655",
   "metadata": {},
   "source": [
    "A continuación, se hará una breve descripción de la base de datos con el objetivo de tener mayor visibilidad de los datos que se están manejando."
   ]
  },
  {
   "cell_type": "code",
   "execution_count": 41,
   "id": "69abb492",
   "metadata": {},
   "outputs": [
    {
     "data": {
      "image/png": "[encoded data removed]",
      "text/plain": [
       "<Figure size 864x432 with 1 Axes>"
      ]
     },
     "metadata": {},
     "output_type": "display_data"
    }
   ],
   "source": [
    "type_count = df['type'].value_counts()\n",
    "\n",
    "f, ax = plt.subplots(figsize = (12, 6))\n",
    "\n",
    "ax.pie(type_count.values, labels = type_count.index, autopct = '%1.2f%%', radius = 1)\n",
    "ax.set_title('Distribución por tipo');"
   ]
  },
  {
   "cell_type": "markdown",
   "id": "492757b5",
   "metadata": {},
   "source": [
    "En la gráfica de pastel anterior, se muestra la distribución porcentual de la variable **type**. La base de datos tiene más observaciones relacionadas con películas que con programas de TV. Veamos ahora, la distribución de la variable **rating**."
   ]
  },
  {
   "cell_type": "code",
   "execution_count": 42,
   "id": "26df8987",
   "metadata": {},
   "outputs": [
    {
     "data": {
      "text/plain": [
       "14"
      ]
     },
     "execution_count": 42,
     "metadata": {},
     "output_type": "execute_result"
    }
   ],
   "source": [
    "df['rating'].nunique()"
   ]
  },
  {
   "cell_type": "code",
   "execution_count": 43,
   "id": "e695d6f0",
   "metadata": {},
   "outputs": [
    {
     "data": {
      "image/png": "[encoded data removed]",
      "text/plain": [
       "<Figure size 864x576 with 1 Axes>"
      ]
     },
     "metadata": {},
     "output_type": "display_data"
    }
   ],
   "source": [
    "space = []\n",
    "\n",
    "f, ax = plt.subplots(figsize = (12, 8))\n",
    "\n",
    "for i in range(14):\n",
    "    space.append(0.05)\n",
    "rating_count = df['rating'].value_counts()\n",
    "ax.pie(rating_count.values, labels = rating_count.index, autopct = '%1.2f%%', radius = 1.5, explode = space)\n",
    "f.suptitle('Distribución por rating', size = 20)\n",
    "f.subplots_adjust(top = 0.80);"
   ]
  },
  {
   "cell_type": "markdown",
   "id": "11df4e8f",
   "metadata": {},
   "source": [
    "Esta es otra forma de ver la distribucion de la variable rating, la cual también se mostró en la gráfica de barras más arriba."
   ]
  },
  {
   "cell_type": "markdown",
   "id": "85ec0ede",
   "metadata": {},
   "source": [
    "Veamos los generos para conocer los más vistos por la gente."
   ]
  },
  {
   "cell_type": "code",
   "execution_count": 44,
   "id": "d3c21580",
   "metadata": {},
   "outputs": [
    {
     "data": {
      "text/html": [
       "<div>\n",
       "<style scoped>\n",
       "    .dataframe tbody tr th:only-of-type {\n",
       "        vertical-align: middle;\n",
       "    }\n",
       "\n",
       "    .dataframe tbody tr th {\n",
       "        vertical-align: top;\n",
       "    }\n",
       "\n",
       "    .dataframe thead th {\n",
       "        text-align: right;\n",
       "    }\n",
       "</style>\n",
       "<table border=\"1\" class=\"dataframe\">\n",
       "  <thead>\n",
       "    <tr style=\"text-align: right;\">\n",
       "      <th></th>\n",
       "      <th>listed_in</th>\n",
       "      <th>count</th>\n",
       "    </tr>\n",
       "  </thead>\n",
       "  <tbody>\n",
       "    <tr>\n",
       "      <th>0</th>\n",
       "      <td>Dramas, International Movies</td>\n",
       "      <td>362</td>\n",
       "    </tr>\n",
       "    <tr>\n",
       "      <th>1</th>\n",
       "      <td>Documentaries</td>\n",
       "      <td>359</td>\n",
       "    </tr>\n",
       "    <tr>\n",
       "      <th>2</th>\n",
       "      <td>Stand-Up Comedy</td>\n",
       "      <td>334</td>\n",
       "    </tr>\n",
       "    <tr>\n",
       "      <th>3</th>\n",
       "      <td>Comedies, Dramas, International Movies</td>\n",
       "      <td>274</td>\n",
       "    </tr>\n",
       "    <tr>\n",
       "      <th>4</th>\n",
       "      <td>Dramas, Independent Movies, International Movies</td>\n",
       "      <td>252</td>\n",
       "    </tr>\n",
       "    <tr>\n",
       "      <th>5</th>\n",
       "      <td>Kids' TV</td>\n",
       "      <td>219</td>\n",
       "    </tr>\n",
       "    <tr>\n",
       "      <th>6</th>\n",
       "      <td>Children &amp; Family Movies</td>\n",
       "      <td>215</td>\n",
       "    </tr>\n",
       "    <tr>\n",
       "      <th>7</th>\n",
       "      <td>Children &amp; Family Movies, Comedies</td>\n",
       "      <td>201</td>\n",
       "    </tr>\n",
       "    <tr>\n",
       "      <th>8</th>\n",
       "      <td>Documentaries, International Movies</td>\n",
       "      <td>186</td>\n",
       "    </tr>\n",
       "    <tr>\n",
       "      <th>9</th>\n",
       "      <td>Dramas, International Movies, Romantic Movies</td>\n",
       "      <td>180</td>\n",
       "    </tr>\n",
       "  </tbody>\n",
       "</table>\n",
       "</div>"
      ],
      "text/plain": [
       "                                          listed_in  count\n",
       "0                      Dramas, International Movies    362\n",
       "1                                     Documentaries    359\n",
       "2                                   Stand-Up Comedy    334\n",
       "3            Comedies, Dramas, International Movies    274\n",
       "4  Dramas, Independent Movies, International Movies    252\n",
       "5                                          Kids' TV    219\n",
       "6                          Children & Family Movies    215\n",
       "7                Children & Family Movies, Comedies    201\n",
       "8               Documentaries, International Movies    186\n",
       "9     Dramas, International Movies, Romantic Movies    180"
      ]
     },
     "execution_count": 44,
     "metadata": {},
     "output_type": "execute_result"
    }
   ],
   "source": [
    "genres = pd.DataFrame(df.groupby('listed_in')['show_id'].count().sort_values(ascending = False))\n",
    "genres.rename(columns = {'show_id':'count'}, inplace = True)\n",
    "genres = genres[:10]\n",
    "genres.reset_index(inplace = True)\n",
    "genres"
   ]
  },
  {
   "cell_type": "code",
   "execution_count": 45,
   "id": "c218d406",
   "metadata": {},
   "outputs": [
    {
     "data": {
      "image/png": "[encoded data removed]",
      "text/plain": [
       "<Figure size 432x288 with 1 Axes>"
      ]
     },
     "metadata": {},
     "output_type": "display_data"
    }
   ],
   "source": [
    "sns.barplot(y = 'listed_in', x = 'count', data = genres, orient = 'h')\n",
    "plt.title('Top 10 Película por Genero')\n",
    "plt.ylabel('Genero')\n",
    "plt.xlabel('');"
   ]
  },
  {
   "cell_type": "markdown",
   "id": "232c914a",
   "metadata": {},
   "source": [
    "Estos son los generos más preferidos."
   ]
  },
  {
   "cell_type": "code",
   "execution_count": 46,
   "id": "91d160d3",
   "metadata": {},
   "outputs": [],
   "source": [
    "df['listed_in'] = df['listed_in'].astype(str)\n",
    "genre_list = []"
   ]
  },
  {
   "cell_type": "code",
   "execution_count": 47,
   "id": "c9520b02",
   "metadata": {},
   "outputs": [],
   "source": [
    "for i in range(df['listed_in'].shape[0]):\n",
    "    try:\n",
    "        genre_list.append(df['listed_in'][i].split(','))\n",
    "    except KeyError as e:\n",
    "        pass"
   ]
  },
  {
   "cell_type": "code",
   "execution_count": 48,
   "id": "7a57ed7c",
   "metadata": {},
   "outputs": [],
   "source": [
    "new_genre_list = []\n",
    "\n",
    "for i in range(len(genre_list)):\n",
    "    for j in range(len(genre_list[i])):\n",
    "        new_genre_list.append(genre_list[i][j].strip())"
   ]
  },
  {
   "cell_type": "code",
   "execution_count": 49,
   "id": "210c3313",
   "metadata": {},
   "outputs": [],
   "source": [
    "k = []\n",
    "\n",
    "for i in new_genre_list:\n",
    "    k.append(i.strip())"
   ]
  },
  {
   "cell_type": "code",
   "execution_count": 50,
   "id": "9c13daf7",
   "metadata": {},
   "outputs": [
    {
     "name": "stdout",
     "output_type": "stream",
     "text": [
      "{'Stand-Up Comedy': 343, 'Korean TV Shows': 150, 'TV Mysteries': 98, 'Children & Family Movies': 640, 'Spanish-Language TV Shows': 173, 'Romantic TV Shows': 369, 'TV Comedies': 573, 'Romantic Movies': 616, 'TV Action & Adventure': 167, \"Kids' TV\": 446, 'Dramas': 2421, 'TV Horror': 75, 'Teen TV Shows': 69, 'Faith & Spirituality': 65, 'Action & Adventure': 859, 'Science & Nature TV': 92, 'Music & Musicals': 374, 'Docuseries': 394, 'Reality TV': 255, 'Independent Movies': 755, 'British TV Shows': 252, 'Classic Movies': 116, 'TV Sci-Fi & Fantasy': 83, 'Anime Features': 71, 'Classic & Cult TV': 26, 'Sci-Fi & Fantasy': 243, 'Thrillers': 575, 'Crime TV Shows': 469, 'LGBTQ Movies': 102, 'Sports Movies': 219, 'TV Dramas': 760, 'Documentaries': 869, 'Comedies': 1671, 'TV Thrillers': 57, 'TV Shows': 16, 'International Movies': 2747, 'Anime Series': 174, 'International TV Shows': 1348, 'Horror Movies': 356, 'Cult Movies': 70, 'Movies': 54, 'Stand-Up Comedy & Talk Shows': 56}\n"
     ]
    }
   ],
   "source": [
    "result = {i: k.count(i) for i in set(k)}\n",
    "print(result)"
   ]
  },
  {
   "cell_type": "code",
   "execution_count": 51,
   "id": "88e57fef",
   "metadata": {},
   "outputs": [
    {
     "data": {
      "text/html": [
       "<div>\n",
       "<style scoped>\n",
       "    .dataframe tbody tr th:only-of-type {\n",
       "        vertical-align: middle;\n",
       "    }\n",
       "\n",
       "    .dataframe tbody tr th {\n",
       "        vertical-align: top;\n",
       "    }\n",
       "\n",
       "    .dataframe thead th {\n",
       "        text-align: right;\n",
       "    }\n",
       "</style>\n",
       "<table border=\"1\" class=\"dataframe\">\n",
       "  <thead>\n",
       "    <tr style=\"text-align: right;\">\n",
       "      <th></th>\n",
       "      <th>index</th>\n",
       "      <th>frequency</th>\n",
       "    </tr>\n",
       "  </thead>\n",
       "  <tbody>\n",
       "    <tr>\n",
       "      <th>35</th>\n",
       "      <td>International Movies</td>\n",
       "      <td>2747</td>\n",
       "    </tr>\n",
       "    <tr>\n",
       "      <th>10</th>\n",
       "      <td>Dramas</td>\n",
       "      <td>2421</td>\n",
       "    </tr>\n",
       "    <tr>\n",
       "      <th>32</th>\n",
       "      <td>Comedies</td>\n",
       "      <td>1671</td>\n",
       "    </tr>\n",
       "    <tr>\n",
       "      <th>37</th>\n",
       "      <td>International TV Shows</td>\n",
       "      <td>1348</td>\n",
       "    </tr>\n",
       "    <tr>\n",
       "      <th>31</th>\n",
       "      <td>Documentaries</td>\n",
       "      <td>869</td>\n",
       "    </tr>\n",
       "    <tr>\n",
       "      <th>14</th>\n",
       "      <td>Action &amp; Adventure</td>\n",
       "      <td>859</td>\n",
       "    </tr>\n",
       "    <tr>\n",
       "      <th>30</th>\n",
       "      <td>TV Dramas</td>\n",
       "      <td>760</td>\n",
       "    </tr>\n",
       "    <tr>\n",
       "      <th>19</th>\n",
       "      <td>Independent Movies</td>\n",
       "      <td>755</td>\n",
       "    </tr>\n",
       "    <tr>\n",
       "      <th>3</th>\n",
       "      <td>Children &amp; Family Movies</td>\n",
       "      <td>640</td>\n",
       "    </tr>\n",
       "    <tr>\n",
       "      <th>7</th>\n",
       "      <td>Romantic Movies</td>\n",
       "      <td>616</td>\n",
       "    </tr>\n",
       "  </tbody>\n",
       "</table>\n",
       "</div>"
      ],
      "text/plain": [
       "                       index  frequency\n",
       "35      International Movies       2747\n",
       "10                    Dramas       2421\n",
       "32                  Comedies       1671\n",
       "37    International TV Shows       1348\n",
       "31             Documentaries        869\n",
       "14        Action & Adventure        859\n",
       "30                 TV Dramas        760\n",
       "19        Independent Movies        755\n",
       "3   Children & Family Movies        640\n",
       "7            Romantic Movies        616"
      ]
     },
     "execution_count": 51,
     "metadata": {},
     "output_type": "execute_result"
    }
   ],
   "source": [
    "genre_df = pd.DataFrame(result, index = [0])\n",
    "\n",
    "genre_df = genre_df.T\n",
    "genre_df.rename(columns = {0:'frequency'}, inplace = True)\n",
    "\n",
    "genre_df.reset_index(inplace = True)\n",
    "genre_df = genre_df.sort_values(by = ['frequency'], ascending = False)\n",
    "\n",
    "genre_df.head(10)"
   ]
  },
  {
   "cell_type": "code",
   "execution_count": 52,
   "id": "f548c163",
   "metadata": {},
   "outputs": [
    {
     "data": {
      "image/png": "[encoded data removed]",
      "text/plain": [
       "<Figure size 432x288 with 1 Axes>"
      ]
     },
     "metadata": {},
     "output_type": "display_data"
    }
   ],
   "source": [
    "sns.barplot(y = 'index', x = 'frequency', data = genre_df[:10], orient = 'h')\n",
    "plt.title('Top 10 Frecuencia de Generos')\n",
    "plt.xlabel('')\n",
    "plt.ylabel('Genero');"
   ]
  },
  {
   "cell_type": "markdown",
   "id": "730a7547",
   "metadata": {},
   "source": [
    "Para una vista más clara de los generos tanto de películas como de programas de TV, se crearán nubes de palabras."
   ]
  },
  {
   "cell_type": "code",
   "execution_count": 53,
   "id": "12300dfc",
   "metadata": {},
   "outputs": [],
   "source": [
    "from wordcloud import WordCloud, STOPWORDS"
   ]
  },
  {
   "cell_type": "code",
   "execution_count": 54,
   "id": "684073fe",
   "metadata": {},
   "outputs": [
    {
     "data": {
      "image/png": "[encoded data removed]",
      "text/plain": [
       "<Figure size 720x864 with 1 Axes>"
      ]
     },
     "metadata": {},
     "output_type": "display_data"
    }
   ],
   "source": [
    "text = ' '.join(df_Movie['listed_in'])\n",
    "\n",
    "plt.rcParams['figure.figsize'] = (10, 12)\n",
    "\n",
    "wordcloud = WordCloud(background_color = 'silver', colormap='vlag', width = 1200,  height = 1200, max_words = 80).generate(text)\n",
    "plt.imshow(wordcloud)\n",
    "plt.title('Wordcloud Most Genre of The Movies', size = 20, fontweight = 'bold')\n",
    "plt.axis('off');"
   ]
  },
  {
   "cell_type": "code",
   "execution_count": 55,
   "id": "f704250e",
   "metadata": {},
   "outputs": [
    {
     "data": {
      "image/png": "[encoded data removed]",
      "text/plain": [
       "<Figure size 720x864 with 1 Axes>"
      ]
     },
     "metadata": {},
     "output_type": "display_data"
    }
   ],
   "source": [
    "text = ' '.join(df_TV['listed_in'])\n",
    "\n",
    "plt.rcParams['figure.figsize'] = (10, 12)\n",
    "wordcloud = WordCloud(background_color = 'silver', colormap='vlag', width = 1200,  height = 1200, max_words = 121).generate(text)\n",
    "plt.imshow(wordcloud)\n",
    "plt.title('Wordcloud Most Genre of The TV Show', size = 20, fontweight = 'bold')\n",
    "plt.axis('off');"
   ]
  },
  {
   "cell_type": "markdown",
   "id": "b3a070c0",
   "metadata": {},
   "source": [
    "Veamos los países con el más alto número de películas y series de TV."
   ]
  },
  {
   "cell_type": "code",
   "execution_count": 56,
   "id": "7d04041e",
   "metadata": {},
   "outputs": [],
   "source": [
    "df['country'] = df['country'].astype(str)\n",
    "df['country'] = df['country'].apply(lambda x: x.split(',')[0])"
   ]
  },
  {
   "cell_type": "code",
   "execution_count": 57,
   "id": "e22779bb",
   "metadata": {},
   "outputs": [],
   "source": [
    "tot = df[['type', 'country']]\n",
    "tot = pd.DataFrame(tot.groupby('country').size().sort_values(ascending = False).reset_index())\n",
    "tot.rename(columns = {0:'sum'}, inplace = True)"
   ]
  },
  {
   "cell_type": "code",
   "execution_count": 58,
   "id": "62cbb0b0",
   "metadata": {},
   "outputs": [
    {
     "data": {
      "image/png": "[encoded data removed]",
      "text/plain": [
       "<Figure size 864x432 with 1 Axes>"
      ]
     },
     "metadata": {},
     "output_type": "display_data"
    }
   ],
   "source": [
    "plt.figure(figsize = (12, 6))\n",
    "\n",
    "sns.barplot(x = tot[\"country\"][:5], y = tot['sum'][:5])\n",
    "plt.title(\"Top 5 Países con mayor número de producciones\")\n",
    "plt.ylabel(\"producciones\");"
   ]
  },
  {
   "cell_type": "markdown",
   "id": "5e1b203e",
   "metadata": {},
   "source": [
    "Se aprecia que en tercer lugar aparecen los registros faltantes."
   ]
  },
  {
   "cell_type": "markdown",
   "id": "3e0ae5f1",
   "metadata": {},
   "source": [
    "Se hace ahora una descripción por año."
   ]
  },
  {
   "cell_type": "code",
   "execution_count": 59,
   "id": "d2c30a13",
   "metadata": {},
   "outputs": [],
   "source": [
    "year = df[['release_year']]\n",
    "Year = pd.DataFrame(year.groupby('release_year').size().sort_values(ascending = False).reset_index())"
   ]
  },
  {
   "cell_type": "code",
   "execution_count": 60,
   "id": "b26e5f46",
   "metadata": {},
   "outputs": [
    {
     "data": {
      "text/html": [
       "<div>\n",
       "<style scoped>\n",
       "    .dataframe tbody tr th:only-of-type {\n",
       "        vertical-align: middle;\n",
       "    }\n",
       "\n",
       "    .dataframe tbody tr th {\n",
       "        vertical-align: top;\n",
       "    }\n",
       "\n",
       "    .dataframe thead th {\n",
       "        text-align: right;\n",
       "    }\n",
       "</style>\n",
       "<table border=\"1\" class=\"dataframe\">\n",
       "  <thead>\n",
       "    <tr style=\"text-align: right;\">\n",
       "      <th></th>\n",
       "      <th>release_year</th>\n",
       "      <th>0</th>\n",
       "    </tr>\n",
       "  </thead>\n",
       "  <tbody>\n",
       "    <tr>\n",
       "      <th>0</th>\n",
       "      <td>2018</td>\n",
       "      <td>1146</td>\n",
       "    </tr>\n",
       "    <tr>\n",
       "      <th>1</th>\n",
       "      <td>2017</td>\n",
       "      <td>1031</td>\n",
       "    </tr>\n",
       "    <tr>\n",
       "      <th>2</th>\n",
       "      <td>2019</td>\n",
       "      <td>1030</td>\n",
       "    </tr>\n",
       "    <tr>\n",
       "      <th>...</th>\n",
       "      <td>...</td>\n",
       "      <td>...</td>\n",
       "    </tr>\n",
       "    <tr>\n",
       "      <th>71</th>\n",
       "      <td>1947</td>\n",
       "      <td>1</td>\n",
       "    </tr>\n",
       "    <tr>\n",
       "      <th>72</th>\n",
       "      <td>1966</td>\n",
       "      <td>1</td>\n",
       "    </tr>\n",
       "    <tr>\n",
       "      <th>73</th>\n",
       "      <td>1925</td>\n",
       "      <td>1</td>\n",
       "    </tr>\n",
       "  </tbody>\n",
       "</table>\n",
       "<p>74 rows × 2 columns</p>\n",
       "</div>"
      ],
      "text/plain": [
       "    release_year     0\n",
       "0           2018  1146\n",
       "1           2017  1031\n",
       "2           2019  1030\n",
       "..           ...   ...\n",
       "71          1947     1\n",
       "72          1966     1\n",
       "73          1925     1\n",
       "\n",
       "[74 rows x 2 columns]"
      ]
     },
     "execution_count": 60,
     "metadata": {},
     "output_type": "execute_result"
    }
   ],
   "source": [
    "Year"
   ]
  },
  {
   "cell_type": "code",
   "execution_count": 61,
   "id": "98c36e6f",
   "metadata": {},
   "outputs": [
    {
     "data": {
      "text/html": [
       "<div>\n",
       "<style scoped>\n",
       "    .dataframe tbody tr th:only-of-type {\n",
       "        vertical-align: middle;\n",
       "    }\n",
       "\n",
       "    .dataframe tbody tr th {\n",
       "        vertical-align: top;\n",
       "    }\n",
       "\n",
       "    .dataframe thead th {\n",
       "        text-align: right;\n",
       "    }\n",
       "</style>\n",
       "<table border=\"1\" class=\"dataframe\">\n",
       "  <thead>\n",
       "    <tr style=\"text-align: right;\">\n",
       "      <th></th>\n",
       "      <th>release_year</th>\n",
       "      <th>sum</th>\n",
       "    </tr>\n",
       "  </thead>\n",
       "  <tbody>\n",
       "    <tr>\n",
       "      <th>0</th>\n",
       "      <td>2018</td>\n",
       "      <td>1146</td>\n",
       "    </tr>\n",
       "    <tr>\n",
       "      <th>1</th>\n",
       "      <td>2017</td>\n",
       "      <td>1031</td>\n",
       "    </tr>\n",
       "    <tr>\n",
       "      <th>2</th>\n",
       "      <td>2019</td>\n",
       "      <td>1030</td>\n",
       "    </tr>\n",
       "    <tr>\n",
       "      <th>3</th>\n",
       "      <td>2020</td>\n",
       "      <td>953</td>\n",
       "    </tr>\n",
       "    <tr>\n",
       "      <th>4</th>\n",
       "      <td>2016</td>\n",
       "      <td>901</td>\n",
       "    </tr>\n",
       "  </tbody>\n",
       "</table>\n",
       "</div>"
      ],
      "text/plain": [
       "   release_year   sum\n",
       "0          2018  1146\n",
       "1          2017  1031\n",
       "2          2019  1030\n",
       "3          2020   953\n",
       "4          2016   901"
      ]
     },
     "execution_count": 61,
     "metadata": {},
     "output_type": "execute_result"
    }
   ],
   "source": [
    "Year.rename(columns = {0:'sum'}, inplace = True)\n",
    "Year.head()"
   ]
  },
  {
   "cell_type": "code",
   "execution_count": 62,
   "id": "d748c8f1",
   "metadata": {},
   "outputs": [
    {
     "data": {
      "image/png": "[encoded data removed]",
      "text/plain": [
       "<Figure size 720x864 with 1 Axes>"
      ]
     },
     "metadata": {},
     "output_type": "display_data"
    }
   ],
   "source": [
    "sns.barplot(x = Year['release_year'][:10], y = Year['sum'][:10])\n",
    "plt.title('Total de producciones por año')\n",
    "plt.xlabel('Año de lanzamiento')\n",
    "plt.ylabel('Total lanzamientos');"
   ]
  },
  {
   "cell_type": "code",
   "execution_count": 63,
   "id": "5f170ac3",
   "metadata": {},
   "outputs": [
    {
     "data": {
      "image/png": "[encoded data removed]",
      "text/plain": [
       "<Figure size 720x864 with 1 Axes>"
      ]
     },
     "metadata": {},
     "output_type": "display_data"
    }
   ],
   "source": [
    "plt.pie(Year['sum'][:10], labels = Year['release_year'][:10], autopct = '%1.2f%%', radius = 1.3);"
   ]
  },
  {
   "cell_type": "markdown",
   "id": "b6119cc5",
   "metadata": {},
   "source": [
    "Análisis mes a mes"
   ]
  },
  {
   "cell_type": "code",
   "execution_count": 64,
   "id": "e618f454",
   "metadata": {},
   "outputs": [
    {
     "data": {
      "text/plain": [
       "0       September 25, 2021\n",
       "1       September 24, 2021\n",
       "2       September 24, 2021\n",
       "               ...        \n",
       "8804      November 1, 2019\n",
       "8805      January 11, 2020\n",
       "8806         March 2, 2019\n",
       "Name: date_added, Length: 8794, dtype: object"
      ]
     },
     "execution_count": 64,
     "metadata": {},
     "output_type": "execute_result"
    }
   ],
   "source": [
    "df['date_added'] = df['date_added'].astype(str)\n",
    "df['date_added']"
   ]
  },
  {
   "cell_type": "code",
   "execution_count": 65,
   "id": "590c2c0c",
   "metadata": {},
   "outputs": [],
   "source": [
    "df['date_added'] = df['date_added'].apply(lambda x: x.split()[0])"
   ]
  },
  {
   "cell_type": "code",
   "execution_count": 66,
   "id": "14d7844d",
   "metadata": {},
   "outputs": [
    {
     "data": {
      "text/plain": [
       "0       September\n",
       "1       September\n",
       "2       September\n",
       "          ...    \n",
       "8804     November\n",
       "8805      January\n",
       "8806        March\n",
       "Name: date_added, Length: 8794, dtype: object"
      ]
     },
     "execution_count": 66,
     "metadata": {},
     "output_type": "execute_result"
    }
   ],
   "source": [
    "df['date_added']"
   ]
  },
  {
   "cell_type": "code",
   "execution_count": 67,
   "id": "d2ae1a01",
   "metadata": {},
   "outputs": [
    {
     "data": {
      "text/html": [
       "<div>\n",
       "<style scoped>\n",
       "    .dataframe tbody tr th:only-of-type {\n",
       "        vertical-align: middle;\n",
       "    }\n",
       "\n",
       "    .dataframe tbody tr th {\n",
       "        vertical-align: top;\n",
       "    }\n",
       "\n",
       "    .dataframe thead th {\n",
       "        text-align: right;\n",
       "    }\n",
       "</style>\n",
       "<table border=\"1\" class=\"dataframe\">\n",
       "  <thead>\n",
       "    <tr style=\"text-align: right;\">\n",
       "      <th></th>\n",
       "      <th>date_added</th>\n",
       "      <th>0</th>\n",
       "    </tr>\n",
       "  </thead>\n",
       "  <tbody>\n",
       "    <tr>\n",
       "      <th>0</th>\n",
       "      <td>April</td>\n",
       "      <td>763</td>\n",
       "    </tr>\n",
       "    <tr>\n",
       "      <th>1</th>\n",
       "      <td>August</td>\n",
       "      <td>754</td>\n",
       "    </tr>\n",
       "    <tr>\n",
       "      <th>2</th>\n",
       "      <td>December</td>\n",
       "      <td>813</td>\n",
       "    </tr>\n",
       "    <tr>\n",
       "      <th>3</th>\n",
       "      <td>February</td>\n",
       "      <td>563</td>\n",
       "    </tr>\n",
       "    <tr>\n",
       "      <th>4</th>\n",
       "      <td>January</td>\n",
       "      <td>738</td>\n",
       "    </tr>\n",
       "    <tr>\n",
       "      <th>5</th>\n",
       "      <td>July</td>\n",
       "      <td>827</td>\n",
       "    </tr>\n",
       "    <tr>\n",
       "      <th>6</th>\n",
       "      <td>June</td>\n",
       "      <td>728</td>\n",
       "    </tr>\n",
       "    <tr>\n",
       "      <th>7</th>\n",
       "      <td>March</td>\n",
       "      <td>742</td>\n",
       "    </tr>\n",
       "    <tr>\n",
       "      <th>8</th>\n",
       "      <td>May</td>\n",
       "      <td>632</td>\n",
       "    </tr>\n",
       "    <tr>\n",
       "      <th>9</th>\n",
       "      <td>November</td>\n",
       "      <td>705</td>\n",
       "    </tr>\n",
       "    <tr>\n",
       "      <th>10</th>\n",
       "      <td>October</td>\n",
       "      <td>760</td>\n",
       "    </tr>\n",
       "    <tr>\n",
       "      <th>11</th>\n",
       "      <td>September</td>\n",
       "      <td>769</td>\n",
       "    </tr>\n",
       "  </tbody>\n",
       "</table>\n",
       "</div>"
      ],
      "text/plain": [
       "   date_added    0\n",
       "0       April  763\n",
       "1      August  754\n",
       "2    December  813\n",
       "3    February  563\n",
       "4     January  738\n",
       "5        July  827\n",
       "6        June  728\n",
       "7       March  742\n",
       "8         May  632\n",
       "9    November  705\n",
       "10    October  760\n",
       "11  September  769"
      ]
     },
     "execution_count": 67,
     "metadata": {},
     "output_type": "execute_result"
    }
   ],
   "source": [
    "month = pd.DataFrame(df['date_added'])\n",
    "month = month.groupby('date_added').size().reset_index()\n",
    "month"
   ]
  },
  {
   "cell_type": "code",
   "execution_count": 68,
   "id": "72ab2f2d",
   "metadata": {},
   "outputs": [
    {
     "data": {
      "text/html": [
       "<div>\n",
       "<style scoped>\n",
       "    .dataframe tbody tr th:only-of-type {\n",
       "        vertical-align: middle;\n",
       "    }\n",
       "\n",
       "    .dataframe tbody tr th {\n",
       "        vertical-align: top;\n",
       "    }\n",
       "\n",
       "    .dataframe thead th {\n",
       "        text-align: right;\n",
       "    }\n",
       "</style>\n",
       "<table border=\"1\" class=\"dataframe\">\n",
       "  <thead>\n",
       "    <tr style=\"text-align: right;\">\n",
       "      <th></th>\n",
       "      <th>Month</th>\n",
       "      <th>frequency</th>\n",
       "    </tr>\n",
       "  </thead>\n",
       "  <tbody>\n",
       "    <tr>\n",
       "      <th>0</th>\n",
       "      <td>April</td>\n",
       "      <td>763</td>\n",
       "    </tr>\n",
       "    <tr>\n",
       "      <th>1</th>\n",
       "      <td>August</td>\n",
       "      <td>754</td>\n",
       "    </tr>\n",
       "    <tr>\n",
       "      <th>2</th>\n",
       "      <td>December</td>\n",
       "      <td>813</td>\n",
       "    </tr>\n",
       "    <tr>\n",
       "      <th>3</th>\n",
       "      <td>February</td>\n",
       "      <td>563</td>\n",
       "    </tr>\n",
       "    <tr>\n",
       "      <th>4</th>\n",
       "      <td>January</td>\n",
       "      <td>738</td>\n",
       "    </tr>\n",
       "    <tr>\n",
       "      <th>5</th>\n",
       "      <td>July</td>\n",
       "      <td>827</td>\n",
       "    </tr>\n",
       "    <tr>\n",
       "      <th>6</th>\n",
       "      <td>June</td>\n",
       "      <td>728</td>\n",
       "    </tr>\n",
       "    <tr>\n",
       "      <th>7</th>\n",
       "      <td>March</td>\n",
       "      <td>742</td>\n",
       "    </tr>\n",
       "    <tr>\n",
       "      <th>8</th>\n",
       "      <td>May</td>\n",
       "      <td>632</td>\n",
       "    </tr>\n",
       "    <tr>\n",
       "      <th>9</th>\n",
       "      <td>November</td>\n",
       "      <td>705</td>\n",
       "    </tr>\n",
       "    <tr>\n",
       "      <th>10</th>\n",
       "      <td>October</td>\n",
       "      <td>760</td>\n",
       "    </tr>\n",
       "    <tr>\n",
       "      <th>11</th>\n",
       "      <td>September</td>\n",
       "      <td>769</td>\n",
       "    </tr>\n",
       "  </tbody>\n",
       "</table>\n",
       "</div>"
      ],
      "text/plain": [
       "        Month  frequency\n",
       "0       April        763\n",
       "1      August        754\n",
       "2    December        813\n",
       "3    February        563\n",
       "4     January        738\n",
       "5        July        827\n",
       "6        June        728\n",
       "7       March        742\n",
       "8         May        632\n",
       "9    November        705\n",
       "10    October        760\n",
       "11  September        769"
      ]
     },
     "execution_count": 68,
     "metadata": {},
     "output_type": "execute_result"
    }
   ],
   "source": [
    "month.rename(columns = {'date_added':'Month', 0:'frequency'}, inplace = True)\n",
    "month"
   ]
  },
  {
   "cell_type": "code",
   "execution_count": 69,
   "id": "40ecea13",
   "metadata": {},
   "outputs": [
    {
     "data": {
      "image/png": "[encoded data removed]",
      "text/plain": [
       "<Figure size 864x432 with 1 Axes>"
      ]
     },
     "metadata": {},
     "output_type": "display_data"
    }
   ],
   "source": [
    "plt.figure(figsize = (12, 6))\n",
    "\n",
    "sns.barplot(x = month[\"Month\"], y = month['frequency'])\n",
    "plt.title('Análisis mes a mes de programas de TV y películas')\n",
    "plt.ylabel(\"Conteos de TV Shows y Películas\")\n",
    "plt.xlabel(\"Mes\");"
   ]
  },
  {
   "cell_type": "markdown",
   "id": "229589e5",
   "metadata": {},
   "source": [
    "En la gráfica anterior, no se aprecia a qué año pertenece cada mes, por lo que, se preparará otra visualización."
   ]
  },
  {
   "cell_type": "code",
   "execution_count": 70,
   "id": "90ec6d31",
   "metadata": {},
   "outputs": [],
   "source": [
    "tem = pd.read_csv('data/netflix_titles.csv')"
   ]
  },
  {
   "cell_type": "code",
   "execution_count": 71,
   "id": "88771df6",
   "metadata": {},
   "outputs": [
    {
     "data": {
      "text/html": [
       "<div>\n",
       "<style scoped>\n",
       "    .dataframe tbody tr th:only-of-type {\n",
       "        vertical-align: middle;\n",
       "    }\n",
       "\n",
       "    .dataframe tbody tr th {\n",
       "        vertical-align: top;\n",
       "    }\n",
       "\n",
       "    .dataframe thead th {\n",
       "        text-align: right;\n",
       "    }\n",
       "</style>\n",
       "<table border=\"1\" class=\"dataframe\">\n",
       "  <thead>\n",
       "    <tr style=\"text-align: right;\">\n",
       "      <th></th>\n",
       "      <th>show_id</th>\n",
       "      <th>type</th>\n",
       "      <th>title</th>\n",
       "      <th>director</th>\n",
       "      <th>cast</th>\n",
       "      <th>country</th>\n",
       "      <th>date_added</th>\n",
       "      <th>release_year</th>\n",
       "      <th>rating</th>\n",
       "      <th>duration</th>\n",
       "      <th>listed_in</th>\n",
       "      <th>description</th>\n",
       "    </tr>\n",
       "  </thead>\n",
       "  <tbody>\n",
       "    <tr>\n",
       "      <th>0</th>\n",
       "      <td>s1</td>\n",
       "      <td>Movie</td>\n",
       "      <td>Dick Johnson Is Dead</td>\n",
       "      <td>Kirsten Johnson</td>\n",
       "      <td>NaN</td>\n",
       "      <td>United States</td>\n",
       "      <td>2021-09-25</td>\n",
       "      <td>2020</td>\n",
       "      <td>PG-13</td>\n",
       "      <td>90 min</td>\n",
       "      <td>Documentaries</td>\n",
       "      <td>As her father nears the end of his life, filmm...</td>\n",
       "    </tr>\n",
       "    <tr>\n",
       "      <th>1</th>\n",
       "      <td>s2</td>\n",
       "      <td>TV Show</td>\n",
       "      <td>Blood &amp; Water</td>\n",
       "      <td>NaN</td>\n",
       "      <td>Ama Qamata, Khosi Ngema, Gail Mabalane, Thaban...</td>\n",
       "      <td>South Africa</td>\n",
       "      <td>2021-09-24</td>\n",
       "      <td>2021</td>\n",
       "      <td>TV-MA</td>\n",
       "      <td>2 Seasons</td>\n",
       "      <td>International TV Shows, TV Dramas, TV Mysteries</td>\n",
       "      <td>After crossing paths at a party, a Cape Town t...</td>\n",
       "    </tr>\n",
       "    <tr>\n",
       "      <th>2</th>\n",
       "      <td>s3</td>\n",
       "      <td>TV Show</td>\n",
       "      <td>Ganglands</td>\n",
       "      <td>Julien Leclercq</td>\n",
       "      <td>Sami Bouajila, Tracy Gotoas, Samuel Jouy, Nabi...</td>\n",
       "      <td>NaN</td>\n",
       "      <td>2021-09-24</td>\n",
       "      <td>2021</td>\n",
       "      <td>TV-MA</td>\n",
       "      <td>1 Season</td>\n",
       "      <td>Crime TV Shows, International TV Shows, TV Act...</td>\n",
       "      <td>To protect his family from a powerful drug lor...</td>\n",
       "    </tr>\n",
       "    <tr>\n",
       "      <th>...</th>\n",
       "      <td>...</td>\n",
       "      <td>...</td>\n",
       "      <td>...</td>\n",
       "      <td>...</td>\n",
       "      <td>...</td>\n",
       "      <td>...</td>\n",
       "      <td>...</td>\n",
       "      <td>...</td>\n",
       "      <td>...</td>\n",
       "      <td>...</td>\n",
       "      <td>...</td>\n",
       "      <td>...</td>\n",
       "    </tr>\n",
       "    <tr>\n",
       "      <th>8804</th>\n",
       "      <td>s8805</td>\n",
       "      <td>Movie</td>\n",
       "      <td>Zombieland</td>\n",
       "      <td>Ruben Fleischer</td>\n",
       "      <td>Jesse Eisenberg, Woody Harrelson, Emma Stone, ...</td>\n",
       "      <td>United States</td>\n",
       "      <td>2019-11-01</td>\n",
       "      <td>2009</td>\n",
       "      <td>R</td>\n",
       "      <td>88 min</td>\n",
       "      <td>Comedies, Horror Movies</td>\n",
       "      <td>Looking to survive in a world taken over by zo...</td>\n",
       "    </tr>\n",
       "    <tr>\n",
       "      <th>8805</th>\n",
       "      <td>s8806</td>\n",
       "      <td>Movie</td>\n",
       "      <td>Zoom</td>\n",
       "      <td>Peter Hewitt</td>\n",
       "      <td>Tim Allen, Courteney Cox, Chevy Chase, Kate Ma...</td>\n",
       "      <td>United States</td>\n",
       "      <td>2020-01-11</td>\n",
       "      <td>2006</td>\n",
       "      <td>PG</td>\n",
       "      <td>88 min</td>\n",
       "      <td>Children &amp; Family Movies, Comedies</td>\n",
       "      <td>Dragged from civilian life, a former superhero...</td>\n",
       "    </tr>\n",
       "    <tr>\n",
       "      <th>8806</th>\n",
       "      <td>s8807</td>\n",
       "      <td>Movie</td>\n",
       "      <td>Zubaan</td>\n",
       "      <td>Mozez Singh</td>\n",
       "      <td>Vicky Kaushal, Sarah-Jane Dias, Raaghav Chanan...</td>\n",
       "      <td>India</td>\n",
       "      <td>2019-03-02</td>\n",
       "      <td>2015</td>\n",
       "      <td>TV-14</td>\n",
       "      <td>111 min</td>\n",
       "      <td>Dramas, International Movies, Music &amp; Musicals</td>\n",
       "      <td>A scrappy but poor boy worms his way into a ty...</td>\n",
       "    </tr>\n",
       "  </tbody>\n",
       "</table>\n",
       "<p>8807 rows × 12 columns</p>\n",
       "</div>"
      ],
      "text/plain": [
       "     show_id     type                 title         director  \\\n",
       "0         s1    Movie  Dick Johnson Is Dead  Kirsten Johnson   \n",
       "1         s2  TV Show         Blood & Water              NaN   \n",
       "2         s3  TV Show             Ganglands  Julien Leclercq   \n",
       "...      ...      ...                   ...              ...   \n",
       "8804   s8805    Movie            Zombieland  Ruben Fleischer   \n",
       "8805   s8806    Movie                  Zoom     Peter Hewitt   \n",
       "8806   s8807    Movie                Zubaan      Mozez Singh   \n",
       "\n",
       "                                                   cast        country  \\\n",
       "0                                                   NaN  United States   \n",
       "1     Ama Qamata, Khosi Ngema, Gail Mabalane, Thaban...   South Africa   \n",
       "2     Sami Bouajila, Tracy Gotoas, Samuel Jouy, Nabi...            NaN   \n",
       "...                                                 ...            ...   \n",
       "8804  Jesse Eisenberg, Woody Harrelson, Emma Stone, ...  United States   \n",
       "8805  Tim Allen, Courteney Cox, Chevy Chase, Kate Ma...  United States   \n",
       "8806  Vicky Kaushal, Sarah-Jane Dias, Raaghav Chanan...          India   \n",
       "\n",
       "     date_added  release_year rating   duration  \\\n",
       "0    2021-09-25          2020  PG-13     90 min   \n",
       "1    2021-09-24          2021  TV-MA  2 Seasons   \n",
       "2    2021-09-24          2021  TV-MA   1 Season   \n",
       "...         ...           ...    ...        ...   \n",
       "8804 2019-11-01          2009      R     88 min   \n",
       "8805 2020-01-11          2006     PG     88 min   \n",
       "8806 2019-03-02          2015  TV-14    111 min   \n",
       "\n",
       "                                              listed_in  \\\n",
       "0                                         Documentaries   \n",
       "1       International TV Shows, TV Dramas, TV Mysteries   \n",
       "2     Crime TV Shows, International TV Shows, TV Act...   \n",
       "...                                                 ...   \n",
       "8804                            Comedies, Horror Movies   \n",
       "8805                 Children & Family Movies, Comedies   \n",
       "8806     Dramas, International Movies, Music & Musicals   \n",
       "\n",
       "                                            description  \n",
       "0     As her father nears the end of his life, filmm...  \n",
       "1     After crossing paths at a party, a Cape Town t...  \n",
       "2     To protect his family from a powerful drug lor...  \n",
       "...                                                 ...  \n",
       "8804  Looking to survive in a world taken over by zo...  \n",
       "8805  Dragged from civilian life, a former superhero...  \n",
       "8806  A scrappy but poor boy worms his way into a ty...  \n",
       "\n",
       "[8807 rows x 12 columns]"
      ]
     },
     "execution_count": 71,
     "metadata": {},
     "output_type": "execute_result"
    }
   ],
   "source": [
    "tem['date_added'] = pd.to_datetime(tem['date_added'])\n",
    "tem"
   ]
  },
  {
   "cell_type": "code",
   "execution_count": 72,
   "id": "48fe19c7",
   "metadata": {},
   "outputs": [
    {
     "data": {
      "text/plain": [
       "0       2021-09\n",
       "1       2021-09\n",
       "2       2021-09\n",
       "         ...   \n",
       "8804    2019-11\n",
       "8805    2020-01\n",
       "8806    2019-03\n",
       "Name: month_year, Length: 8807, dtype: period[M]"
      ]
     },
     "execution_count": 72,
     "metadata": {},
     "output_type": "execute_result"
    }
   ],
   "source": [
    "tem['month_year'] = tem['date_added'].dt.to_period('M')\n",
    "tem['month_year']"
   ]
  },
  {
   "cell_type": "code",
   "execution_count": 73,
   "id": "18e3dcc7",
   "metadata": {},
   "outputs": [
    {
     "data": {
      "text/html": [
       "<div>\n",
       "<style scoped>\n",
       "    .dataframe tbody tr th:only-of-type {\n",
       "        vertical-align: middle;\n",
       "    }\n",
       "\n",
       "    .dataframe tbody tr th {\n",
       "        vertical-align: top;\n",
       "    }\n",
       "\n",
       "    .dataframe thead th {\n",
       "        text-align: right;\n",
       "    }\n",
       "</style>\n",
       "<table border=\"1\" class=\"dataframe\">\n",
       "  <thead>\n",
       "    <tr style=\"text-align: right;\">\n",
       "      <th></th>\n",
       "      <th>month_year</th>\n",
       "      <th>0</th>\n",
       "    </tr>\n",
       "  </thead>\n",
       "  <tbody>\n",
       "    <tr>\n",
       "      <th>0</th>\n",
       "      <td>2008-01</td>\n",
       "      <td>1</td>\n",
       "    </tr>\n",
       "    <tr>\n",
       "      <th>1</th>\n",
       "      <td>2008-02</td>\n",
       "      <td>1</td>\n",
       "    </tr>\n",
       "    <tr>\n",
       "      <th>2</th>\n",
       "      <td>2009-05</td>\n",
       "      <td>1</td>\n",
       "    </tr>\n",
       "    <tr>\n",
       "      <th>...</th>\n",
       "      <td>...</td>\n",
       "      <td>...</td>\n",
       "    </tr>\n",
       "    <tr>\n",
       "      <th>105</th>\n",
       "      <td>2021-07</td>\n",
       "      <td>257</td>\n",
       "    </tr>\n",
       "    <tr>\n",
       "      <th>106</th>\n",
       "      <td>2021-08</td>\n",
       "      <td>178</td>\n",
       "    </tr>\n",
       "    <tr>\n",
       "      <th>107</th>\n",
       "      <td>2021-09</td>\n",
       "      <td>183</td>\n",
       "    </tr>\n",
       "  </tbody>\n",
       "</table>\n",
       "<p>108 rows × 2 columns</p>\n",
       "</div>"
      ],
      "text/plain": [
       "    month_year    0\n",
       "0      2008-01    1\n",
       "1      2008-02    1\n",
       "2      2009-05    1\n",
       "..         ...  ...\n",
       "105    2021-07  257\n",
       "106    2021-08  178\n",
       "107    2021-09  183\n",
       "\n",
       "[108 rows x 2 columns]"
      ]
     },
     "execution_count": 73,
     "metadata": {},
     "output_type": "execute_result"
    }
   ],
   "source": [
    "temp = pd.DataFrame(tem['month_year'])\n",
    "temp = temp.groupby('month_year').size().reset_index()\n",
    "temp"
   ]
  },
  {
   "cell_type": "code",
   "execution_count": 74,
   "id": "2822c2ae",
   "metadata": {},
   "outputs": [
    {
     "data": {
      "text/html": [
       "<div>\n",
       "<style scoped>\n",
       "    .dataframe tbody tr th:only-of-type {\n",
       "        vertical-align: middle;\n",
       "    }\n",
       "\n",
       "    .dataframe tbody tr th {\n",
       "        vertical-align: top;\n",
       "    }\n",
       "\n",
       "    .dataframe thead th {\n",
       "        text-align: right;\n",
       "    }\n",
       "</style>\n",
       "<table border=\"1\" class=\"dataframe\">\n",
       "  <thead>\n",
       "    <tr style=\"text-align: right;\">\n",
       "      <th></th>\n",
       "      <th>month_year</th>\n",
       "      <th>frequency</th>\n",
       "    </tr>\n",
       "  </thead>\n",
       "  <tbody>\n",
       "    <tr>\n",
       "      <th>0</th>\n",
       "      <td>2008-01</td>\n",
       "      <td>1</td>\n",
       "    </tr>\n",
       "    <tr>\n",
       "      <th>1</th>\n",
       "      <td>2008-02</td>\n",
       "      <td>1</td>\n",
       "    </tr>\n",
       "    <tr>\n",
       "      <th>2</th>\n",
       "      <td>2009-05</td>\n",
       "      <td>1</td>\n",
       "    </tr>\n",
       "    <tr>\n",
       "      <th>...</th>\n",
       "      <td>...</td>\n",
       "      <td>...</td>\n",
       "    </tr>\n",
       "    <tr>\n",
       "      <th>105</th>\n",
       "      <td>2021-07</td>\n",
       "      <td>257</td>\n",
       "    </tr>\n",
       "    <tr>\n",
       "      <th>106</th>\n",
       "      <td>2021-08</td>\n",
       "      <td>178</td>\n",
       "    </tr>\n",
       "    <tr>\n",
       "      <th>107</th>\n",
       "      <td>2021-09</td>\n",
       "      <td>183</td>\n",
       "    </tr>\n",
       "  </tbody>\n",
       "</table>\n",
       "<p>108 rows × 2 columns</p>\n",
       "</div>"
      ],
      "text/plain": [
       "    month_year  frequency\n",
       "0      2008-01          1\n",
       "1      2008-02          1\n",
       "2      2009-05          1\n",
       "..         ...        ...\n",
       "105    2021-07        257\n",
       "106    2021-08        178\n",
       "107    2021-09        183\n",
       "\n",
       "[108 rows x 2 columns]"
      ]
     },
     "execution_count": 74,
     "metadata": {},
     "output_type": "execute_result"
    }
   ],
   "source": [
    "temp.rename(columns = {0:'frequency'}, inplace = True)\n",
    "temp"
   ]
  },
  {
   "cell_type": "code",
   "execution_count": 75,
   "id": "5edee2fc",
   "metadata": {},
   "outputs": [
    {
     "data": {
      "image/png": "[encoded data removed]",
      "text/plain": [
       "<Figure size 1152x432 with 1 Axes>"
      ]
     },
     "metadata": {},
     "output_type": "display_data"
    }
   ],
   "source": [
    "plt.figure(figsize = (16, 6))\n",
    "\n",
    "sns.barplot(x = temp[\"month_year\"], y = temp['frequency'], color = 'skyblue')\n",
    "plt.title('Análisis por mes: programas de TV y películas')\n",
    "plt.ylabel(\"Conteos de TV Shows y Películas\")\n",
    "plt.xlabel(\"Mes/Año\")\n",
    "plt.xticks(rotation = 90)\n",
    "plt.xticks(fontsize = 7);"
   ]
  },
  {
   "cell_type": "markdown",
   "id": "80cce64a",
   "metadata": {},
   "source": [
    "En la gráfica anterior, se ve claramente como a partir de finales de 2016 el número de producciones empezó a aumentar constantemente, probablemente debido en gran medida a la aparición de las plataformas de streaming."
   ]
  },
  {
   "cell_type": "markdown",
   "id": "cd06cef1",
   "metadata": {},
   "source": [
    "Veamos una comparación entre los programas de TV y las películas lanzadas o estrenadas a partir de 2010."
   ]
  },
  {
   "cell_type": "code",
   "execution_count": 76,
   "id": "328836b9",
   "metadata": {},
   "outputs": [
    {
     "data": {
      "text/html": [
       "<div>\n",
       "<style scoped>\n",
       "    .dataframe tbody tr th:only-of-type {\n",
       "        vertical-align: middle;\n",
       "    }\n",
       "\n",
       "    .dataframe tbody tr th {\n",
       "        vertical-align: top;\n",
       "    }\n",
       "\n",
       "    .dataframe thead th {\n",
       "        text-align: right;\n",
       "    }\n",
       "</style>\n",
       "<table border=\"1\" class=\"dataframe\">\n",
       "  <thead>\n",
       "    <tr style=\"text-align: right;\">\n",
       "      <th></th>\n",
       "      <th>release_year</th>\n",
       "      <th>type</th>\n",
       "      <th>Total</th>\n",
       "    </tr>\n",
       "  </thead>\n",
       "  <tbody>\n",
       "    <tr>\n",
       "      <th>95</th>\n",
       "      <td>2010</td>\n",
       "      <td>Movie</td>\n",
       "      <td>153</td>\n",
       "    </tr>\n",
       "    <tr>\n",
       "      <th>96</th>\n",
       "      <td>2010</td>\n",
       "      <td>TV Show</td>\n",
       "      <td>39</td>\n",
       "    </tr>\n",
       "    <tr>\n",
       "      <th>97</th>\n",
       "      <td>2011</td>\n",
       "      <td>Movie</td>\n",
       "      <td>145</td>\n",
       "    </tr>\n",
       "    <tr>\n",
       "      <th>98</th>\n",
       "      <td>2011</td>\n",
       "      <td>TV Show</td>\n",
       "      <td>40</td>\n",
       "    </tr>\n",
       "    <tr>\n",
       "      <th>99</th>\n",
       "      <td>2012</td>\n",
       "      <td>Movie</td>\n",
       "      <td>173</td>\n",
       "    </tr>\n",
       "  </tbody>\n",
       "</table>\n",
       "</div>"
      ],
      "text/plain": [
       "    release_year     type  Total\n",
       "95          2010    Movie    153\n",
       "96          2010  TV Show     39\n",
       "97          2011    Movie    145\n",
       "98          2011  TV Show     40\n",
       "99          2012    Movie    173"
      ]
     },
     "execution_count": 76,
     "metadata": {},
     "output_type": "execute_result"
    }
   ],
   "source": [
    "df2 = df[['type', 'release_year']].copy()\n",
    "df2 = df2.groupby(['release_year', 'type']).size().reset_index(name = 'Total')\n",
    "df2 = df2[df2['release_year'] >= 2010]\n",
    "df2.head()"
   ]
  },
  {
   "cell_type": "code",
   "execution_count": 77,
   "id": "f1f2ff1e",
   "metadata": {},
   "outputs": [
    {
     "data": {
      "image/png": "[encoded data removed]",
      "text/plain": [
       "<Figure size 1152x432 with 1 Axes>"
      ]
     },
     "metadata": {},
     "output_type": "display_data"
    }
   ],
   "source": [
    "plt.style.use('ggplot')\n",
    "plt.figure(figsize = (16, 6))\n",
    "\n",
    "sns.lineplot(x = df2[\"release_year\"], y = df2['Total'], hue = df2['type'])\n",
    "plt.title('Tendencia de estrenos: Programas de TV y Películas 2010-2021')\n",
    "plt.ylabel(\"Total producciones\")\n",
    "plt.xlabel(\"Año\")\n",
    "#plt.xticks(rotation = 90)\n",
    "plt.xticks(fontsize = 10);"
   ]
  },
  {
   "cell_type": "markdown",
   "id": "a5ad7f7f",
   "metadata": {},
   "source": [
    "# Sistema de recomendación"
   ]
  },
  {
   "cell_type": "markdown",
   "id": "40c3796f",
   "metadata": {},
   "source": [
    "<div class=text-justify>\n",
    "A continuación, se creará un sistema de recomendación que muestre, en base al título de una película, las recomendaciones de otras películas tomando en cuenta la descripción de la misma y, luego, otro recomendador pero esta vez tomando como base en el género. Para lograr lo anterior, se usará la similitud del coseno que es la métrica más popular para este tipo de análisis.\n",
    "</div>"
   ]
  },
  {
   "cell_type": "code",
   "execution_count": 78,
   "id": "90f78920",
   "metadata": {},
   "outputs": [],
   "source": [
    "from sklearn.feature_extraction.text import TfidfVectorizer\n",
    "from sklearn.metrics.pairwise import cosine_similarity"
   ]
  },
  {
   "cell_type": "markdown",
   "id": "0c82be21",
   "metadata": {},
   "source": [
    "Primero, en base a la descripción"
   ]
  },
  {
   "cell_type": "code",
   "execution_count": 79,
   "id": "04c266d4",
   "metadata": {},
   "outputs": [
    {
     "data": {
      "text/plain": [
       "0       As her father nears the end of his life, filmm...\n",
       "1       After crossing paths at a party, a Cape Town t...\n",
       "2       To protect his family from a powerful drug lor...\n",
       "                              ...                        \n",
       "8804    Looking to survive in a world taken over by zo...\n",
       "8805    Dragged from civilian life, a former superhero...\n",
       "8806    A scrappy but poor boy worms his way into a ty...\n",
       "Name: description, Length: 8794, dtype: object"
      ]
     },
     "execution_count": 79,
     "metadata": {},
     "output_type": "execute_result"
    }
   ],
   "source": [
    "df['description']"
   ]
  },
  {
   "cell_type": "markdown",
   "id": "8f5bb81c",
   "metadata": {},
   "source": [
    "Instanciamos, entrenamos y transformamos el objeto que generará la matriz sparse."
   ]
  },
  {
   "cell_type": "code",
   "execution_count": 80,
   "id": "ab9a3188",
   "metadata": {},
   "outputs": [],
   "source": [
    "vectorizer = TfidfVectorizer()\n",
    "\n",
    "transform = vectorizer.fit_transform(df['description'])"
   ]
  },
  {
   "cell_type": "code",
   "execution_count": 81,
   "id": "b216005c",
   "metadata": {},
   "outputs": [
    {
     "name": "stdout",
     "output_type": "stream",
     "text": [
      "  (0, 8595)\t0.3141052896628356\n",
      "  (0, 6153)\t0.186915760138405\n",
      "  (0, 2234)\t0.19403467201889957\n",
      "  (0, 17085)\t0.15216363672799332\n",
      "  (0, 7893)\t0.15355317184335077\n",
      "  (0, 17271)\t0.05532564971503637\n",
      "  (0, 18534)\t0.21177077681722914\n",
      "  (0, 3513)\t0.2898691451660586\n",
      "  (0, 880)\t0.05462110511493656\n",
      "  (0, 8865)\t0.2898691451660586\n",
      "  (0, 8505)\t0.06504225568107683\n",
      "  (0, 4395)\t0.16923906973920716\n",
      "  (0, 16118)\t0.2602430658107832\n",
      "  (0, 9142)\t0.29624408503347033\n",
      "  (0, 9459)\t0.3282825253555096\n",
      "  (0, 6448)\t0.2136959620494481\n",
      "  (0, 9881)\t0.11741741116114392\n",
      "  (0, 8015)\t0.15786811646752064\n",
      "  (0, 11840)\t0.06103372994968485\n",
      "  (0, 5659)\t0.20878046276668175\n",
      "  (0, 17073)\t0.10422338963497453\n",
      "  (0, 11439)\t0.2844792103075603\n",
      "  (0, 6280)\t0.15148904283618414\n",
      "  (0, 7913)\t0.09641520080076049\n",
      "  (0, 1189)\t0.10594796071328004\n",
      "  :\t:\n",
      "  (8792, 6872)\t0.10181040571589607\n",
      "  (8792, 9881)\t0.11560261531783216\n",
      "  (8792, 11840)\t0.060090396603129564\n",
      "  (8792, 17073)\t0.05130625986361219\n",
      "  (8793, 18870)\t0.34349669599701615\n",
      "  (8793, 5358)\t0.2887350801222513\n",
      "  (8793, 12897)\t0.2666290500640917\n",
      "  (8793, 6303)\t0.2819466244942597\n",
      "  (8793, 17625)\t0.22615892090791648\n",
      "  (8793, 11274)\t0.20816665559859576\n",
      "  (8793, 17710)\t0.2887350801222513\n",
      "  (8793, 14951)\t0.3000991421768168\n",
      "  (8793, 6164)\t0.26524286728073904\n",
      "  (8793, 301)\t0.16674462120490027\n",
      "  (8793, 2266)\t0.19515151685386103\n",
      "  (8793, 18650)\t0.16392183807445623\n",
      "  (8793, 18530)\t0.19704419769674505\n",
      "  (8793, 12375)\t0.19119800447825858\n",
      "  (8793, 2565)\t0.13405388173657856\n",
      "  (8793, 8831)\t0.1395329876409789\n",
      "  (8793, 6215)\t0.14357583102667046\n",
      "  (8793, 880)\t0.06170824689869864\n",
      "  (8793, 8015)\t0.26752748835576873\n",
      "  (8793, 11840)\t0.06895291607444484\n",
      "  (8793, 17073)\t0.05887323816207033\n"
     ]
    }
   ],
   "source": [
    "print(transform)"
   ]
  },
  {
   "cell_type": "markdown",
   "id": "9d3c5248",
   "metadata": {},
   "source": [
    "Veamos las dimensiones de la matriz sparse generada."
   ]
  },
  {
   "cell_type": "code",
   "execution_count": 82,
   "id": "91b762ea",
   "metadata": {},
   "outputs": [
    {
     "name": "stdout",
     "output_type": "stream",
     "text": [
      "Total de Filas:  8794\n",
      "Total de columnas:  19146\n"
     ]
    }
   ],
   "source": [
    "print('Total de Filas: ', transform.shape[0])\n",
    "print('Total de columnas: ', transform.shape[1])"
   ]
  },
  {
   "cell_type": "markdown",
   "id": "d65998af",
   "metadata": {},
   "source": [
    "Para saber qué palabra corresponde con cada clave en la matriz sparse (segundo número de la tupla), se usa el atributo vocabulary."
   ]
  },
  {
   "cell_type": "code",
   "execution_count": 92,
   "id": "f7db6b2b",
   "metadata": {},
   "outputs": [
    {
     "data": {
      "text/plain": [
       "{'as': 1189,\n",
       " 'her': 7913,\n",
       " 'father': 6280,\n",
       " 'nears': 11439,\n",
       " 'the': 17073,\n",
       " 'end': 5659,\n",
       " 'of': 11840,\n",
       " 'his': 8015,\n",
       " 'life': 9881,\n",
       " 'filmmaker': 6448,\n",
       " 'kirsten': 9459,\n",
       " 'johnson': 9142,\n",
       " 'stages': 16118,\n",
       " 'death': 4395,\n",
       " 'in': 8505,\n",
       " 'inventive': 8865,\n",
       " 'and': 880,\n",
       " 'comical': 3513,\n",
       " 'ways': 18534,\n",
       " 'to': 17271,\n",
       " 'help': 7893,\n",
       " 'them': 17085,\n",
       " 'both': 2234,\n",
       " 'face': 6153,\n",
       " 'inevitable': 8595,\n",
       " 'after': 565,\n",
       " 'crossing': 4113,\n",
       " 'paths': 12396,\n",
       " 'at': 1285,\n",
       " 'party': 12355,\n",
       " 'cape': 2708,\n",
       " 'town': 17389,\n",
       " 'teen': 16926,\n",
       " 'sets': 15168,\n",
       " 'out': 12061,\n",
       " 'prove': 13298,\n",
       " 'whether': 18647,\n",
       " 'private': 13151,\n",
       " 'school': 14882,\n",
       " 'swimming': 16687,\n",
       " 'star': 16148,\n",
       " 'is': 8929,\n",
       " 'sister': 15537,\n",
       " 'who': 18669,\n",
       " 'was': 18504,\n",
       " 'abducted': 274,\n",
       " 'birth': 1979,\n",
       " 'protect': 13279,\n",
       " 'family': 6215,\n",
       " 'from': 6872,\n",
       " 'powerful': 12987,\n",
       " 'drug': 5270,\n",
       " 'lord': 10064,\n",
       " 'skilled': 15579,\n",
       " 'thief': 17113,\n",
       " 'mehdi': 10659,\n",
       " 'expert': 6061,\n",
       " 'team': 16899,\n",
       " 'robbers': 14434,\n",
       " 'are': 1097,\n",
       " 'pulled': 13365,\n",
       " 'into': 8831,\n",
       " 'violent': 18302,\n",
       " 'deadly': 4382,\n",
       " 'turf': 17668,\n",
       " 'war': 18471,\n",
       " 'feuds': 6392,\n",
       " 'flirtations': 6593,\n",
       " 'toilet': 17287,\n",
       " 'talk': 16812,\n",
       " 'go': 7270,\n",
       " 'down': 5165,\n",
       " 'among': 839,\n",
       " 'incarcerated': 8512,\n",
       " 'women': 18823,\n",
       " 'orleans': 12022,\n",
       " 'justice': 9253,\n",
       " 'center': 2926,\n",
       " 'new': 11518,\n",
       " 'on': 11908,\n",
       " 'this': 17133,\n",
       " 'gritty': 7474,\n",
       " 'reality': 13709,\n",
       " 'series': 15143,\n",
       " 'city': 3242,\n",
       " 'coaching': 3368,\n",
       " 'centers': 2928,\n",
       " 'known': 9497,\n",
       " 'train': 17438,\n",
       " 'india': 8557,\n",
       " 'finest': 6473,\n",
       " 'collegiate': 3451,\n",
       " 'minds': 10888,\n",
       " 'an': 858,\n",
       " 'earnest': 5375,\n",
       " 'but': 2565,\n",
       " 'unexceptional': 17857,\n",
       " 'student': 16394,\n",
       " 'friends': 6852,\n",
       " 'navigate': 11415,\n",
       " 'campus': 2674,\n",
       " 'arrival': 1150,\n",
       " 'charismatic': 3014,\n",
       " 'young': 19019,\n",
       " 'priest': 13117,\n",
       " 'brings': 2382,\n",
       " 'glorious': 7258,\n",
       " 'miracles': 10925,\n",
       " 'ominous': 11907,\n",
       " 'mysteries': 11298,\n",
       " 'renewed': 14045,\n",
       " 'religious': 13987,\n",
       " 'fervor': 6382,\n",
       " 'dying': 5350,\n",
       " 'desperate': 4668,\n",
       " 'believe': 1790,\n",
       " 'equestria': 5816,\n",
       " 'divided': 5029,\n",
       " 'bright': 2371,\n",
       " 'eyed': 6139,\n",
       " 'hero': 7926,\n",
       " 'believes': 1792,\n",
       " 'earth': 5380,\n",
       " 'ponies': 12887,\n",
       " 'pegasi': 12476,\n",
       " 'unicorns': 17891,\n",
       " 'should': 15384,\n",
       " 'be': 1697,\n",
       " 'pals': 12244,\n",
       " 'hoof': 8120,\n",
       " 'heart': 7834,\n",
       " 'she': 15279,\n",
       " 'determined': 4703,\n",
       " 'it': 8954,\n",
       " 'photo': 12631,\n",
       " 'shoot': 15358,\n",
       " 'ghana': 7164,\n",
       " 'american': 825,\n",
       " 'model': 11035,\n",
       " 'slips': 15662,\n",
       " 'back': 1474,\n",
       " 'time': 17233,\n",
       " 'becomes': 1738,\n",
       " 'enslaved': 5739,\n",
       " 'plantation': 12767,\n",
       " 'bears': 1715,\n",
       " 'witness': 18795,\n",
       " 'agony': 588,\n",
       " 'ancestral': 875,\n",
       " 'past': 12375,\n",
       " 'talented': 16806,\n",
       " 'batch': 1665,\n",
       " 'amateur': 804,\n",
       " 'bakers': 1527,\n",
       " 'off': 11842,\n",
       " '10': 3,\n",
       " 'week': 18571,\n",
       " 'competition': 3577,\n",
       " 'whipping': 18656,\n",
       " 'up': 18016,\n",
       " 'their': 17081,\n",
       " 'best': 1866,\n",
       " 'dishes': 4932,\n",
       " 'hopes': 8139,\n",
       " 'being': 1778,\n",
       " 'named': 11345,\n",
       " 'woman': 18816,\n",
       " 'adjusting': 454,\n",
       " 'loss': 10080,\n",
       " 'contends': 3784,\n",
       " 'with': 18788,\n",
       " 'feisty': 6338,\n",
       " 'bird': 1974,\n",
       " 'that': 17070,\n",
       " 'taken': 16794,\n",
       " 'over': 12107,\n",
       " 'garden': 7044,\n",
       " 'husband': 8286,\n",
       " 'struggling': 16387,\n",
       " 'find': 6467,\n",
       " 'way': 18530,\n",
       " 'forward': 6746,\n",
       " 'sicily': 15431,\n",
       " 'boasts': 2113,\n",
       " 'bold': 2140,\n",
       " 'anti': 966,\n",
       " 'mafia': 10241,\n",
       " 'coalition': 3370,\n",
       " 'what': 18631,\n",
       " 'happens': 7696,\n",
       " 'when': 18642,\n",
       " 'those': 17145,\n",
       " 'trying': 17628,\n",
       " 'bring': 2380,\n",
       " 'organized': 12009,\n",
       " 'crime': 4064,\n",
       " 'accused': 368,\n",
       " 'criminals': 4071,\n",
       " 'themselves': 17089,\n",
       " 'earn': 5373,\n",
       " 'living': 9971,\n",
       " 'bangkok': 1583,\n",
       " 'man': 10329,\n",
       " 'joins': 9148,\n",
       " 'emergency': 5594,\n",
       " 'rescue': 14120,\n",
       " 'service': 15156,\n",
       " 'realizes': 13714,\n",
       " 'he': 7805,\n",
       " 'must': 11284,\n",
       " 'unravel': 17950,\n",
       " 'citywide': 3243,\n",
       " 'conspiracy': 3746,\n",
       " 'most': 11160,\n",
       " 'murdered': 11256,\n",
       " 'terrorist': 17023,\n",
       " 'bombing': 2155,\n",
       " 'unknowingly': 17915,\n",
       " 'lured': 10168,\n",
       " 'joining': 9147,\n",
       " 'very': 18215,\n",
       " 'group': 7495,\n",
       " 'killed': 9415,\n",
       " 'clever': 3309,\n",
       " 'socially': 15778,\n",
       " 'awkward': 1444,\n",
       " 'tetê': 17048,\n",
       " 'll': 9975,\n",
       " 'do': 5050,\n",
       " 'anything': 989,\n",
       " 'fit': 6516,\n",
       " 'queen': 13466,\n",
       " 'bee': 1746,\n",
       " 'classmates': 3279,\n",
       " 'has': 7754,\n",
       " 'other': 12047,\n",
       " 'ideas': 8352,\n",
       " 'cameras': 2661,\n",
       " 'following': 6662,\n",
       " 'bengaluru': 1831,\n",
       " 'police': 12855,\n",
       " 'job': 9120,\n",
       " 'offer': 11849,\n",
       " 'rare': 13652,\n",
       " 'glimpse': 7240,\n",
       " 'complex': 3588,\n",
       " 'challenging': 2965,\n",
       " 'inner': 8682,\n",
       " 'workings': 18857,\n",
       " 'four': 6760,\n",
       " 'major': 10285,\n",
       " 'investigations': 8875,\n",
       " 'students': 16395,\n",
       " 'color': 3468,\n",
       " 'daily': 4283,\n",
       " 'slights': 15655,\n",
       " 'slippery': 15661,\n",
       " 'politics': 12872,\n",
       " 'ivy': 8967,\n",
       " 'league': 9748,\n",
       " 'college': 3449,\n",
       " 'not': 11680,\n",
       " 'nearly': 11438,\n",
       " 'post': 12958,\n",
       " 'racial': 13519,\n",
       " 'thinks': 17123,\n",
       " 'declassified': 4447,\n",
       " 'documents': 5064,\n",
       " 'reveal': 14256,\n",
       " 'wwii': 18930,\n",
       " 'otto': 12054,\n",
       " 'skorzeny': 15592,\n",
       " 'close': 3338,\n",
       " 'hitler': 8033,\n",
       " 'ally': 751,\n",
       " 'escaped': 5860,\n",
       " 'spain': 15913,\n",
       " 'became': 1733,\n",
       " 'adviser': 521,\n",
       " 'world': 18861,\n",
       " 'presidents': 13079,\n",
       " 'strangers': 16323,\n",
       " 'diego': 4793,\n",
       " 'isabel': 8930,\n",
       " 'flee': 6567,\n",
       " 'home': 8079,\n",
       " 'mexico': 10785,\n",
       " 'pretend': 13092,\n",
       " 'married': 10445,\n",
       " 'couple': 3952,\n",
       " 'escape': 5859,\n",
       " 'dealing': 4389,\n",
       " 'enemies': 5679,\n",
       " 'abusive': 327,\n",
       " 'invasion': 8858,\n",
       " 'dream': 5221,\n",
       " 'house': 8197,\n",
       " 'traumatized': 17497,\n",
       " 'wife': 18696,\n",
       " 'searches': 14991,\n",
       " 'for': 6687,\n",
       " 'answers': 956,\n",
       " 'learns': 9763,\n",
       " 'real': 13707,\n",
       " 'danger': 4308,\n",
       " 'just': 9252,\n",
       " 'beginning': 1764,\n",
       " '1960s': 95,\n",
       " 'holocaust': 8075,\n",
       " 'survivor': 16626,\n",
       " 'self': 15069,\n",
       " 'trained': 17439,\n",
       " 'spies': 15986,\n",
       " 'seek': 15033,\n",
       " 'against': 571,\n",
       " 'nazis': 11424,\n",
       " 'fleeing': 6568,\n",
       " 'hide': 7949,\n",
       " 'late': 9680,\n",
       " '1970s': 105,\n",
       " 'serial': 15142,\n",
       " 'rapist': 13644,\n",
       " 'claims': 3255,\n",
       " 'multiple': 11244,\n",
       " 'personalities': 12563,\n",
       " 'control': 3817,\n",
       " 'behavior': 1772,\n",
       " 'setting': 15169,\n",
       " 'legal': 9786,\n",
       " 'odyssey': 11839,\n",
       " 'captivates': 2727,\n",
       " 'america': 824,\n",
       " 'good': 7312,\n",
       " 'deed': 4464,\n",
       " 'unwittingly': 18009,\n",
       " 'endangers': 5662,\n",
       " 'clan': 3259,\n",
       " '13th': 16,\n",
       " 'century': 2933,\n",
       " 'turkish': 17670,\n",
       " 'warrior': 18497,\n",
       " 'agrees': 592,\n",
       " 'fight': 6423,\n",
       " 'sultan': 16503,\n",
       " 'exchange': 5988,\n",
       " 'tribal': 17552,\n",
       " 'land': 9638,\n",
       " 'newly': 11528,\n",
       " 'divorced': 5036,\n",
       " 'denied': 4585,\n",
       " 'visitation': 18333,\n",
       " 'rights': 14357,\n",
       " 'daughter': 4356,\n",
       " 'doting': 5149,\n",
       " 'disguises': 4926,\n",
       " 'himself': 7995,\n",
       " 'gray': 7413,\n",
       " 'haired': 7624,\n",
       " 'nanny': 11351,\n",
       " 'order': 11994,\n",
       " 'spend': 15973,\n",
       " 'arcade': 1069,\n",
       " 'games': 7024,\n",
       " 'sled': 15629,\n",
       " 'days': 4372,\n",
       " 'hiccup': 7944,\n",
       " 'cures': 4208,\n",
       " 'cory': 3912,\n",
       " 'carson': 2809,\n",
       " 'curious': 4211,\n",
       " 'little': 9960,\n",
       " 'chrissy': 3191,\n",
       " 'speeds': 15965,\n",
       " 'own': 12161,\n",
       " 'fun': 6918,\n",
       " 'adventure': 506,\n",
       " 'all': 718,\n",
       " 'loves': 10111,\n",
       " 'insists': 8716,\n",
       " 'twin': 17696,\n",
       " 'sons': 15853,\n",
       " 'marry': 10448,\n",
       " 'sisters': 15539,\n",
       " 'creates': 4033,\n",
       " 'alter': 775,\n",
       " 'ego': 5463,\n",
       " 'might': 10829,\n",
       " 'bit': 1988,\n",
       " 'too': 17316,\n",
       " 'convincing': 3845,\n",
       " 'finding': 6468,\n",
       " 'love': 10103,\n",
       " 'can': 2676,\n",
       " 'hard': 7707,\n",
       " 'anyone': 988,\n",
       " 'adults': 499,\n",
       " 'autism': 1378,\n",
       " 'spectrum': 15960,\n",
       " 'exploring': 6085,\n",
       " 'unpredictable': 17946,\n",
       " 'dating': 4355,\n",
       " 'even': 5928,\n",
       " 'more': 11129,\n",
       " 'complicated': 3593,\n",
       " 'tangled': 16835,\n",
       " 'triangle': 17548,\n",
       " 'ensues': 5742,\n",
       " 'falls': 6206,\n",
       " 'studying': 16402,\n",
       " 'become': 1737,\n",
       " 'nun': 11730,\n",
       " 'friend': 6849,\n",
       " 'enlists': 5723,\n",
       " 'him': 7992,\n",
       " 'pursue': 13406,\n",
       " 'mourning': 11199,\n",
       " 'beloved': 1808,\n",
       " 'junior': 9242,\n",
       " 'high': 7956,\n",
       " 'basketball': 1653,\n",
       " 'coach': 3365,\n",
       " 'five': 6520,\n",
       " 'middle': 10814,\n",
       " 'aged': 575,\n",
       " 'reunite': 14249,\n",
       " 'lake': 9615,\n",
       " 'rediscover': 13843,\n",
       " 'joys': 9197,\n",
       " 'kid': 9403,\n",
       " 'idyllic': 8364,\n",
       " 'suburban': 16455,\n",
       " 'shatters': 15274,\n",
       " 'alien': 710,\n",
       " 'force': 6691,\n",
       " 'invades': 8855,\n",
       " 'they': 17107,\n",
       " 'struggle': 16385,\n",
       " 'convince': 3842,\n",
       " 'others': 12048,\n",
       " 'threat': 17154,\n",
       " 'blackmailed': 2008,\n",
       " 'by': 2582,\n",
       " 'company': 3563,\n",
       " 'ceo': 2934,\n",
       " 'low': 10115,\n",
       " 'level': 9845,\n",
       " 'employee': 5621,\n",
       " 'finds': 6469,\n",
       " 'forced': 6692,\n",
       " 'spy': 16080,\n",
       " 'boss': 2223,\n",
       " 'rival': 14399,\n",
       " 'former': 6730,\n",
       " 'mentor': 10714,\n",
       " 'big': 1924,\n",
       " 'buzzes': 2580,\n",
       " 'around': 1139,\n",
       " 'lonely': 10031,\n",
       " 'souls': 15880,\n",
       " 'discover': 4901,\n",
       " 'surprising': 16608,\n",
       " 'sources': 15889,\n",
       " 'connection': 3710,\n",
       " 'companionship': 3562,\n",
       " 'three': 17160,\n",
       " 'tales': 16809,\n",
       " 'longing': 10040,\n",
       " 'chicago': 3113,\n",
       " 'aunt': 1359,\n",
       " 'diane': 4768,\n",
       " 'idolized': 8363,\n",
       " 'troublemaker': 17603,\n",
       " 'talent': 16805,\n",
       " 'avoiding': 1421,\n",
       " 'adulthood': 497,\n",
       " 'soft': 15795,\n",
       " 'spot': 16047,\n",
       " 'soul': 15876,\n",
       " 'searching': 14992,\n",
       " 'nephew': 11484,\n",
       " 'insecure': 8702,\n",
       " 'otis': 12051,\n",
       " 'comes': 3507,\n",
       " 'sex': 15190,\n",
       " 'advice': 518,\n",
       " 'thanks': 17067,\n",
       " 'therapist': 17099,\n",
       " 'mom': 11066,\n",
       " 'so': 15763,\n",
       " 'rebel': 13738,\n",
       " 'maeve': 10240,\n",
       " 'proposes': 13262,\n",
       " 'therapy': 17100,\n",
       " 'clinic': 3324,\n",
       " 'hundreds': 8264,\n",
       " 'cash': 2827,\n",
       " 'strapped': 16326,\n",
       " 'players': 12782,\n",
       " 'accept': 339,\n",
       " 'strange': 16320,\n",
       " 'invitation': 8887,\n",
       " 'compete': 3574,\n",
       " 'children': 3135,\n",
       " 'inside': 8708,\n",
       " 'tempting': 16974,\n",
       " 'prize': 13156,\n",
       " 'awaits': 1426,\n",
       " 'stakes': 16123,\n",
       " 'tayo': 16890,\n",
       " 'get': 7158,\n",
       " 'kidnapped': 9405,\n",
       " 'evil': 5951,\n",
       " 'magicians': 10253,\n",
       " 'invading': 8856,\n",
       " 'search': 14990,\n",
       " 'magical': 10249,\n",
       " 'gemstone': 7097,\n",
       " 'son': 15839,\n",
       " 'goes': 7289,\n",
       " 'missing': 10975,\n",
       " 'during': 5331,\n",
       " 'snowy': 15759,\n",
       " 'hike': 7979,\n",
       " 'mountains': 11193,\n",
       " 'retired': 14223,\n",
       " 'intelligence': 8759,\n",
       " 'officer': 11856,\n",
       " 'will': 18715,\n",
       " 'stop': 16289,\n",
       " 'nothing': 11689,\n",
       " 'risk': 14388,\n",
       " 'everything': 5945,\n",
       " 'tired': 17257,\n",
       " 'small': 15681,\n",
       " 'grind': 7464,\n",
       " 'marseille': 10451,\n",
       " 'cops': 3873,\n",
       " 'chance': 2978,\n",
       " 'bust': 2559,\n",
       " 'network': 11503,\n",
       " 'lines': 9923,\n",
       " 'blur': 2101,\n",
       " 'key': 9387,\n",
       " 'informant': 8645,\n",
       " 'makes': 10295,\n",
       " 'ask': 1208,\n",
       " 'birds': 1975,\n",
       " 'red': 13832,\n",
       " 'chuck': 3212,\n",
       " 'feathered': 6313,\n",
       " 'have': 7783,\n",
       " 'lots': 10087,\n",
       " 'adventures': 509,\n",
       " 'while': 18650,\n",
       " 'guarding': 7523,\n",
       " 'eggs': 5461,\n",
       " 'nest': 11494,\n",
       " 'pesky': 12578,\n",
       " 'pigs': 12680,\n",
       " 'keep': 9360,\n",
       " 'steal': 16200,\n",
       " 'bruce': 2428,\n",
       " 'lee': 9778,\n",
       " 'angers': 916,\n",
       " 'kung': 9564,\n",
       " 'fu': 6894,\n",
       " 'traditionalists': 17420,\n",
       " 'teaching': 16897,\n",
       " 'outsiders': 12098,\n",
       " 'leading': 9744,\n",
       " 'showdown': 15394,\n",
       " 'shaolin': 15246,\n",
       " 'master': 10486,\n",
       " 'film': 6445,\n",
       " 'based': 1645,\n",
       " 'events': 5932,\n",
       " 'brave': 2304,\n",
       " 'energetic': 5682,\n",
       " 'boy': 2266,\n",
       " 'superhuman': 16543,\n",
       " 'powers': 12993,\n",
       " 'leads': 9745,\n",
       " 'exciting': 5994,\n",
       " 'guard': 7520,\n",
       " 'fellow': 6347,\n",
       " 'dholakpur': 4754,\n",
       " 'villagers': 18282,\n",
       " 'mighty': 10830,\n",
       " 'adam': 421,\n",
       " 'heroic': 7928,\n",
       " 'squad': 16085,\n",
       " 'misfits': 10958,\n",
       " 'legendary': 9789,\n",
       " 'power': 12985,\n",
       " 'grayskull': 7414,\n",
       " 'destiny': 4682,\n",
       " 'defend': 4482,\n",
       " 'eternia': 5894,\n",
       " 'sinister': 15524,\n",
       " 'skeletor': 15565,\n",
       " 'insatiable': 8699,\n",
       " 'great': 7417,\n",
       " 'white': 18662,\n",
       " 'shark': 15258,\n",
       " 'terrorizes': 17027,\n",
       " 'amity': 835,\n",
       " 'island': 8939,\n",
       " 'chief': 3122,\n",
       " 'oceanographer': 11820,\n",
       " 'grizzled': 7476,\n",
       " 'hunter': 8276,\n",
       " 'destroy': 4683,\n",
       " 'beast': 1716,\n",
       " 'years': 18978,\n",
       " 'last': 9676,\n",
       " 'attacks': 1311,\n",
       " 'martin': 10459,\n",
       " 'brody': 2401,\n",
       " 'fights': 6427,\n",
       " 'another': 952,\n",
       " 'killer': 9416,\n",
       " 'staff': 16115,\n",
       " 'marine': 10418,\n",
       " 'theme': 17086,\n",
       " 'park': 12319,\n",
       " 'try': 17627,\n",
       " 'capture': 2734,\n",
       " 'its': 8961,\n",
       " 'mother': 11164,\n",
       " 'invaded': 8852,\n",
       " 'enclosure': 5649,\n",
       " 'blood': 2069,\n",
       " 'attack': 1306,\n",
       " 'ellen': 5535,\n",
       " 'had': 7610,\n",
       " 'enough': 5728,\n",
       " 'moves': 11208,\n",
       " 'caribbean': 2768,\n",
       " 'follows': 6663,\n",
       " 'there': 17101,\n",
       " 'robin': 14442,\n",
       " 'wiltshire': 18731,\n",
       " 'painful': 12210,\n",
       " 'childhood': 3130,\n",
       " 'rescued': 14121,\n",
       " 'westerns': 18621,\n",
       " 'now': 11709,\n",
       " 'lives': 9969,\n",
       " 'frontier': 6875,\n",
       " 'dreams': 5228,\n",
       " 'training': 17444,\n",
       " 'horses': 8163,\n",
       " 'screen': 14958,\n",
       " 'cia': 3220,\n",
       " 'operative': 11943,\n",
       " 'matt': 10521,\n",
       " 'weston': 18623,\n",
       " 'dangerous': 4309,\n",
       " 'criminal': 4067,\n",
       " 'agency': 576,\n",
       " 'safe': 14678,\n",
       " 'come': 3498,\n",
       " 'under': 17801,\n",
       " 'securer': 15017,\n",
       " 'location': 9995,\n",
       " 'glamorous': 7221,\n",
       " 'millennials': 10869,\n",
       " 'strive': 16372,\n",
       " 'success': 16461,\n",
       " 'juggle': 9215,\n",
       " 'careers': 2757,\n",
       " 'finances': 6461,\n",
       " 'friendships': 6854,\n",
       " 'arese': 1102,\n",
       " 'ugwu': 17734,\n",
       " '2016': 155,\n",
       " 'selling': 15077,\n",
       " 'novel': 11704,\n",
       " 'rookie': 14528,\n",
       " 'cop': 3866,\n",
       " 'one': 11912,\n",
       " 'day': 4368,\n",
       " 'veteran': 18220,\n",
       " 'lapd': 9662,\n",
       " 'narcotics': 11366,\n",
       " 'receives': 13764,\n",
       " 'crash': 4013,\n",
       " 'course': 3959,\n",
       " 'questionable': 13474,\n",
       " 'brand': 2293,\n",
       " 'pair': 12223,\n",
       " 'powered': 12986,\n",
       " 'successful': 16463,\n",
       " 'lawyers': 9726,\n",
       " 'defending': 4485,\n",
       " 'opposite': 11959,\n",
       " 'interests': 8780,\n",
       " 'system': 16737,\n",
       " 'causing': 2883,\n",
       " 'strain': 16312,\n",
       " 'happy': 7700,\n",
       " 'marriage': 10443,\n",
       " 'ancient': 878,\n",
       " 'god': 7280,\n",
       " 'chitragupta': 3158,\n",
       " 'oversees': 12140,\n",
       " 'trial': 17546,\n",
       " 'determine': 4702,\n",
       " 'were': 18612,\n",
       " 'battle': 1678,\n",
       " 'true': 17615,\n",
       " 'heroes': 7927,\n",
       " 'villains': 18286,\n",
       " 'biggest': 1929,\n",
       " 'foe': 6642,\n",
       " 'seemingly': 15042,\n",
       " 'defeated': 4478,\n",
       " 'inuyasha': 8850,\n",
       " 'return': 14242,\n",
       " 'everyday': 5943,\n",
       " 'peace': 12446,\n",
       " 'soon': 15855,\n",
       " 'shattered': 15272,\n",
       " 'emerging': 5596,\n",
       " 'enemy': 5680,\n",
       " 'dog': 5074,\n",
       " 'demon': 4570,\n",
       " 'beaqueathed': 1709,\n",
       " 'swords': 16708,\n",
       " 'fang': 6225,\n",
       " 'each': 5363,\n",
       " 'two': 17708,\n",
       " 'third': 17124,\n",
       " 'sword': 16707,\n",
       " 'been': 1748,\n",
       " 'awakened': 1428,\n",
       " 'ai': 602,\n",
       " 'half': 7634,\n",
       " 'horai': 8144,\n",
       " 'people': 12500,\n",
       " 'returns': 14246,\n",
       " 'potential': 12972,\n",
       " 'saviors': 14817,\n",
       " 'sesshomaru': 15161,\n",
       " 'kikyo': 9413,\n",
       " 'sealed': 14984,\n",
       " 'away': 1437,\n",
       " '200': 139,\n",
       " 'fate': 6276,\n",
       " 'jeopardy': 9067,\n",
       " 'terrible': 17014,\n",
       " 'track': 17405,\n",
       " 'record': 13806,\n",
       " 'take': 16791,\n",
       " 'crack': 3991,\n",
       " 're': 13691,\n",
       " 'creating': 4034,\n",
       " 'edible': 5422,\n",
       " 'masterpieces': 10491,\n",
       " '000': 0,\n",
       " 'part': 12336,\n",
       " 'contest': 3788,\n",
       " 'hot': 8185,\n",
       " 'mess': 10751,\n",
       " 'mistakenly': 10985,\n",
       " 'fourth': 6763,\n",
       " 'raikage': 13562,\n",
       " 'ninja': 11593,\n",
       " 'naruto': 11377,\n",
       " 'imprisoned': 8492,\n",
       " 'impenetrable': 8454,\n",
       " 'hozuki': 8222,\n",
       " 'castle': 2843,\n",
       " 'ninjas': 11595,\n",
       " 'ambush': 818,\n",
       " 'village': 18280,\n",
       " 'konohagakure': 9515,\n",
       " 'adolescent': 469,\n",
       " 'long': 10035,\n",
       " 'pal': 12232,\n",
       " 'sasuke': 14784,\n",
       " 'save': 14810,\n",
       " 'planet': 12760,\n",
       " 'villages': 18283,\n",
       " 'destroyed': 4684,\n",
       " 'leader': 9741,\n",
       " 'spared': 15921,\n",
       " 'tries': 17565,\n",
       " 'culprit': 4184,\n",
       " 'uzumaki': 18094,\n",
       " 'continue': 3800,\n",
       " 'tasked': 16866,\n",
       " 'protecting': 13281,\n",
       " 'priestess': 13118,\n",
       " 'die': 4791,\n",
       " 'sent': 15111,\n",
       " 'recover': 13815,\n",
       " 'nin': 11590,\n",
       " 'rogue': 14484,\n",
       " 'manages': 10334,\n",
       " 'send': 15092,\n",
       " '20': 138,\n",
       " 'where': 18644,\n",
       " 'unites': 17906,\n",
       " 'mission': 10976,\n",
       " 'pet': 12581,\n",
       " 'ambushed': 819,\n",
       " 'brutal': 2435,\n",
       " 'knights': 9484,\n",
       " 'led': 9776,\n",
       " 'enigmatic': 5710,\n",
       " 'temujin': 16977,\n",
       " 'exuberant': 6134,\n",
       " 'teams': 16903,\n",
       " 'sakura': 14703,\n",
       " 'kakashi': 9283,\n",
       " 'escort': 5865,\n",
       " 'prince': 13130,\n",
       " 'michiru': 10805,\n",
       " 'hikaru': 7978,\n",
       " 'crescent': 4057,\n",
       " 'moon': 11111,\n",
       " 'kingdom': 9441,\n",
       " 'learn': 9759,\n",
       " 'actress': 412,\n",
       " 'hurt': 8283,\n",
       " 'making': 10298,\n",
       " 'next': 11540,\n",
       " 'turns': 17677,\n",
       " 'princess': 13132,\n",
       " 'scary': 14855,\n",
       " 'story': 16302,\n",
       " 'fan': 6219,\n",
       " 'alex': 690,\n",
       " 'tell': 16953,\n",
       " 'spine': 15993,\n",
       " 'tingling': 17246,\n",
       " 'tale': 16804,\n",
       " 'every': 5941,\n",
       " 'night': 11569,\n",
       " 'or': 11976,\n",
       " 'stay': 16196,\n",
       " 'trapped': 17489,\n",
       " 'wicked': 18679,\n",
       " 'witch': 18784,\n",
       " 'apartment': 997,\n",
       " 'forever': 6713,\n",
       " 'place': 12749,\n",
       " 'called': 2638,\n",
       " 'numberland': 11726,\n",
       " 'math': 10509,\n",
       " 'adds': 443,\n",
       " 'tons': 17314,\n",
       " 'cheerful': 3076,\n",
       " 'blocks': 2063,\n",
       " 'work': 18850,\n",
       " 'play': 12777,\n",
       " 'sing': 15507,\n",
       " 'together': 17284,\n",
       " 'explore': 6080,\n",
       " 'history': 8026,\n",
       " 'flavors': 6558,\n",
       " 'regional': 13904,\n",
       " 'indian': 8558,\n",
       " 'cuisine': 4176,\n",
       " 'traditional': 17418,\n",
       " 'kashmiri': 9332,\n",
       " 'feasts': 6312,\n",
       " 'vegetarian': 18167,\n",
       " 'gujarat': 7550,\n",
       " 'zack': 19059,\n",
       " 'kelly': 9366,\n",
       " 'slater': 15615,\n",
       " 'jessie': 9077,\n",
       " 'screech': 14956,\n",
       " 'lisa': 9944,\n",
       " 'highs': 7967,\n",
       " 'lows': 10121,\n",
       " 'hit': 8027,\n",
       " 'through': 17172,\n",
       " 'exclusive': 5995,\n",
       " 'interviews': 8824,\n",
       " 'archival': 1086,\n",
       " 'footage': 6677,\n",
       " 'documentary': 5062,\n",
       " 'traces': 17400,\n",
       " 'intimate': 8827,\n",
       " 'portrait': 12928,\n",
       " 'seven': 15181,\n",
       " 'formula': 6735,\n",
       " 'champion': 2972,\n",
       " 'michael': 10797,\n",
       " 'schumacher': 14899,\n",
       " 'writings': 18914,\n",
       " 'nobel': 11611,\n",
       " 'winner': 18752,\n",
       " 'rabindranath': 13509,\n",
       " 'tagore': 16775,\n",
       " 'collection': 3442,\n",
       " 'set': 15164,\n",
       " 'early': 5372,\n",
       " '20th': 167,\n",
       " 'bengal': 1829,\n",
       " 'show': 15387,\n",
       " 'singles': 15518,\n",
       " 'latin': 9684,\n",
       " 'challenged': 2961,\n",
       " 'give': 7213,\n",
       " 'here': 7920,\n",
       " 'abstinence': 315,\n",
       " 'silver': 15476,\n",
       " 'lining': 9927,\n",
       " 'us': 18068,\n",
       " '100': 4,\n",
       " 'join': 9145,\n",
       " 'storybots': 16305,\n",
       " 'space': 15905,\n",
       " 'travelers': 17504,\n",
       " 'historic': 8022,\n",
       " 'inspiration4': 8721,\n",
       " 'kids': 9410,\n",
       " 'questions': 13476,\n",
       " 'about': 301,\n",
       " 'jovial': 9192,\n",
       " 'comic': 3512,\n",
       " 'jack': 8980,\n",
       " 'whitehall': 18664,\n",
       " 'invites': 8890,\n",
       " 'stuffy': 16405,\n",
       " 'travel': 17501,\n",
       " 'southeast': 15893,\n",
       " 'asia': 1204,\n",
       " 'attempt': 1313,\n",
       " 'strengthen': 16349,\n",
       " 'bond': 2161,\n",
       " 'businesswoman': 2557,\n",
       " 'political': 12868,\n",
       " 'ambitions': 815,\n",
       " 'threatened': 17156,\n",
       " 'underworld': 17832,\n",
       " 'connections': 3711,\n",
       " 'ensuing': 5743,\n",
       " 'could': 3926,\n",
       " 'cost': 3919,\n",
       " 'eye': 6136,\n",
       " 'budget': 2468,\n",
       " 'visit': 18332,\n",
       " 'vacation': 18096,\n",
       " 'rentals': 14055,\n",
       " 'globe': 7250,\n",
       " 'share': 15253,\n",
       " 'tips': 17255,\n",
       " 'tricks': 17561,\n",
       " 'plane': 12758,\n",
       " 'leaves': 9768,\n",
       " 'bear': 1710,\n",
       " 'amnesia': 836,\n",
       " 'make': 10291,\n",
       " 'choices': 3169,\n",
       " 'pilot': 12693,\n",
       " 'survive': 16622,\n",
       " 'interactive': 8774,\n",
       " 'timid': 17240,\n",
       " 'anime': 929,\n",
       " 'loving': 10114,\n",
       " 'gets': 7160,\n",
       " 'drawn': 5215,\n",
       " 'cycling': 4254,\n",
       " 'club': 3352,\n",
       " 'tough': 17367,\n",
       " 'challenges': 2964,\n",
       " 'develop': 4720,\n",
       " 'racing': 13521,\n",
       " 'singham': 15513,\n",
       " 'loses': 10078,\n",
       " 'superpowers': 16554,\n",
       " 'kaal': 9265,\n",
       " 'plans': 12765,\n",
       " 'strength': 16348,\n",
       " 'defeat': 4477,\n",
       " 'budding': 2465,\n",
       " 'politician': 12870,\n",
       " 'devious': 4736,\n",
       " 'rise': 14384,\n",
       " 'ranks': 13634,\n",
       " 'until': 17991,\n",
       " 'unexpected': 17858,\n",
       " 'presence': 13063,\n",
       " 'begins': 1766,\n",
       " 'interfere': 8782,\n",
       " 'crooked': 4102,\n",
       " 'move': 11204,\n",
       " 'humans': 8249,\n",
       " 'dragon': 5194,\n",
       " 'summons': 16515,\n",
       " 'courage': 3955,\n",
       " 'mythical': 11309,\n",
       " 'paradise': 12280,\n",
       " 'dragons': 5196,\n",
       " 'live': 9963,\n",
       " ...}"
      ]
     },
     "execution_count": 92,
     "metadata": {},
     "output_type": "execute_result"
    }
   ],
   "source": [
    "vectorizer.vocabulary_"
   ]
  },
  {
   "cell_type": "markdown",
   "id": "a51d95ad",
   "metadata": {},
   "source": [
    "Se calcula la matriz de similaridades con la distancia del coseno."
   ]
  },
  {
   "cell_type": "code",
   "execution_count": 103,
   "id": "665bb1c3",
   "metadata": {},
   "outputs": [],
   "source": [
    "cs = cosine_similarity(transform, transform)"
   ]
  },
  {
   "cell_type": "code",
   "execution_count": 104,
   "id": "887617fa",
   "metadata": {},
   "outputs": [
    {
     "data": {
      "text/plain": [
       "array([[1.        , 0.01264284, 0.03962856, ..., 0.01486355, 0.02258861,\n",
       "        0.05594906],\n",
       "       [0.01264284, 1.        , 0.00329414, ..., 0.00332495, 0.        ,\n",
       "        0.        ],\n",
       "       [0.03962856, 0.00329414, 1.        , ..., 0.01424155, 0.01493158,\n",
       "        0.09326026],\n",
       "       ...,\n",
       "       [0.01486355, 0.00332495, 0.01424155, ..., 1.        , 0.02564669,\n",
       "        0.00804652],\n",
       "       [0.02258861, 0.        , 0.01493158, ..., 0.02564669, 1.        ,\n",
       "        0.00716397],\n",
       "       [0.05594906, 0.        , 0.09326026, ..., 0.00804652, 0.00716397,\n",
       "        1.        ]])"
      ]
     },
     "execution_count": 104,
     "metadata": {},
     "output_type": "execute_result"
    }
   ],
   "source": [
    "cs"
   ]
  },
  {
   "cell_type": "markdown",
   "id": "1d0ada7d",
   "metadata": {},
   "source": [
    "La siguiente función genera el top 10 de recomendaciones para la pelicula especificada."
   ]
  },
  {
   "cell_type": "code",
   "execution_count": 105,
   "id": "f325ad50",
   "metadata": {},
   "outputs": [],
   "source": [
    "data = df['title']\n",
    "\n",
    "def recommendations_description(title, cs = cs):\n",
    "    title_search = pd.Index(data).get_loc(title)\n",
    "    sim = list(enumerate(cs[title_search]))\n",
    "    sim = sorted(sim, key = lambda x: x[1], reverse = True)\n",
    "    top_ten = sim[1:11]\n",
    "    recom = [i[0] for i in top_ten]\n",
    "    return df[['title', 'listed_in','description']].iloc[recom]"
   ]
  },
  {
   "cell_type": "code",
   "execution_count": 106,
   "id": "978f0b69",
   "metadata": {},
   "outputs": [
    {
     "data": {
      "text/html": [
       "<div>\n",
       "<style scoped>\n",
       "    .dataframe tbody tr th:only-of-type {\n",
       "        vertical-align: middle;\n",
       "    }\n",
       "\n",
       "    .dataframe tbody tr th {\n",
       "        vertical-align: top;\n",
       "    }\n",
       "\n",
       "    .dataframe thead th {\n",
       "        text-align: right;\n",
       "    }\n",
       "</style>\n",
       "<table border=\"1\" class=\"dataframe\">\n",
       "  <thead>\n",
       "    <tr style=\"text-align: right;\">\n",
       "      <th></th>\n",
       "      <th>title</th>\n",
       "      <th>listed_in</th>\n",
       "      <th>description</th>\n",
       "    </tr>\n",
       "  </thead>\n",
       "  <tbody>\n",
       "    <tr>\n",
       "      <th>7038</th>\n",
       "      <td>I Am Maris</td>\n",
       "      <td>Documentaries</td>\n",
       "      <td>Through her own words and art, a young woman d...</td>\n",
       "    </tr>\n",
       "    <tr>\n",
       "      <th>1354</th>\n",
       "      <td>Heartland</td>\n",
       "      <td>TV Dramas</td>\n",
       "      <td>Spunky teenager Amy is reeling from the sudden...</td>\n",
       "    </tr>\n",
       "    <tr>\n",
       "      <th>5747</th>\n",
       "      <td>Berserk: The Golden Age Arc I - The Egg of the...</td>\n",
       "      <td>Action &amp; Adventure, Anime Features, Internatio...</td>\n",
       "      <td>Loner Guts is recruited by Griffith and his ba...</td>\n",
       "    </tr>\n",
       "    <tr>\n",
       "      <th>4380</th>\n",
       "      <td>La Doña</td>\n",
       "      <td>Spanish-Language TV Shows, TV Dramas</td>\n",
       "      <td>Worlds collide and lives shatter when Altagrac...</td>\n",
       "    </tr>\n",
       "    <tr>\n",
       "      <th>3163</th>\n",
       "      <td>Saaho</td>\n",
       "      <td>Action &amp; Adventure, International Movies</td>\n",
       "      <td>In a fictional megalopolis, a stunning underwo...</td>\n",
       "    </tr>\n",
       "    <tr>\n",
       "      <th>4316</th>\n",
       "      <td>Dogs of Berlin</td>\n",
       "      <td>Crime TV Shows, International TV Shows, TV Dramas</td>\n",
       "      <td>Two cops investigate the murder of a famous Tu...</td>\n",
       "    </tr>\n",
       "    <tr>\n",
       "      <th>8798</th>\n",
       "      <td>Zed Plus</td>\n",
       "      <td>Comedies, Dramas, International Movies</td>\n",
       "      <td>A philandering small-town mechanic's political...</td>\n",
       "    </tr>\n",
       "    <tr>\n",
       "      <th>1263</th>\n",
       "      <td>No Escape</td>\n",
       "      <td>Action &amp; Adventure</td>\n",
       "      <td>Soon after relocating to Southeast Asia, an Am...</td>\n",
       "    </tr>\n",
       "    <tr>\n",
       "      <th>7675</th>\n",
       "      <td>Operation Proposal</td>\n",
       "      <td>International TV Shows, Korean TV Shows, Roman...</td>\n",
       "      <td>On Yi-seul's wedding day, her friend Baek-ho w...</td>\n",
       "    </tr>\n",
       "    <tr>\n",
       "      <th>798</th>\n",
       "      <td>Love Jones</td>\n",
       "      <td>Comedies, Dramas, Independent Movies</td>\n",
       "      <td>A poet and a photographer take a chance on rom...</td>\n",
       "    </tr>\n",
       "  </tbody>\n",
       "</table>\n",
       "</div>"
      ],
      "text/plain": [
       "                                                  title  \\\n",
       "7038                                         I Am Maris   \n",
       "1354                                          Heartland   \n",
       "5747  Berserk: The Golden Age Arc I - The Egg of the...   \n",
       "4380                                            La Doña   \n",
       "3163                                              Saaho   \n",
       "4316                                     Dogs of Berlin   \n",
       "8798                                           Zed Plus   \n",
       "1263                                          No Escape   \n",
       "7675                                 Operation Proposal   \n",
       "798                                          Love Jones   \n",
       "\n",
       "                                              listed_in  \\\n",
       "7038                                      Documentaries   \n",
       "1354                                          TV Dramas   \n",
       "5747  Action & Adventure, Anime Features, Internatio...   \n",
       "4380               Spanish-Language TV Shows, TV Dramas   \n",
       "3163           Action & Adventure, International Movies   \n",
       "4316  Crime TV Shows, International TV Shows, TV Dramas   \n",
       "8798             Comedies, Dramas, International Movies   \n",
       "1263                                 Action & Adventure   \n",
       "7675  International TV Shows, Korean TV Shows, Roman...   \n",
       "798                Comedies, Dramas, Independent Movies   \n",
       "\n",
       "                                            description  \n",
       "7038  Through her own words and art, a young woman d...  \n",
       "1354  Spunky teenager Amy is reeling from the sudden...  \n",
       "5747  Loner Guts is recruited by Griffith and his ba...  \n",
       "4380  Worlds collide and lives shatter when Altagrac...  \n",
       "3163  In a fictional megalopolis, a stunning underwo...  \n",
       "4316  Two cops investigate the murder of a famous Tu...  \n",
       "8798  A philandering small-town mechanic's political...  \n",
       "1263  Soon after relocating to Southeast Asia, an Am...  \n",
       "7675  On Yi-seul's wedding day, her friend Baek-ho w...  \n",
       "798   A poet and a photographer take a chance on rom...  "
      ]
     },
     "execution_count": 106,
     "metadata": {},
     "output_type": "execute_result"
    }
   ],
   "source": [
    "recommendations_description('King of Boys')"
   ]
  },
  {
   "cell_type": "markdown",
   "id": "0923319a",
   "metadata": {},
   "source": [
    "Ahora, veamos el top 10 para las recomendaciones basadas en el género (columna listed_in)."
   ]
  },
  {
   "cell_type": "code",
   "execution_count": 107,
   "id": "7f70961d",
   "metadata": {},
   "outputs": [
    {
     "data": {
      "text/plain": [
       "0                                           Documentaries\n",
       "1         International TV Shows, TV Dramas, TV Mysteries\n",
       "2       Crime TV Shows, International TV Shows, TV Act...\n",
       "                              ...                        \n",
       "8804                              Comedies, Horror Movies\n",
       "8805                   Children & Family Movies, Comedies\n",
       "8806       Dramas, International Movies, Music & Musicals\n",
       "Name: listed_in, Length: 8794, dtype: object"
      ]
     },
     "execution_count": 107,
     "metadata": {},
     "output_type": "execute_result"
    }
   ],
   "source": [
    "df['listed_in']"
   ]
  },
  {
   "cell_type": "code",
   "execution_count": 108,
   "id": "0019cbaf",
   "metadata": {},
   "outputs": [],
   "source": [
    "vectorizer_genre = TfidfVectorizer()\n",
    "\n",
    "transform_genre = vectorizer_genre.fit_transform(df['listed_in'])\n",
    "cs_genre = cosine_similarity(transform_genre, transform_genre)"
   ]
  },
  {
   "cell_type": "code",
   "execution_count": 109,
   "id": "c1febcc9",
   "metadata": {},
   "outputs": [],
   "source": [
    "data = df['title']\n",
    "\n",
    "def recommendations_genre(title, cs = cs_genre):\n",
    "    title_search_genre = pd.Index(data).get_loc(title)\n",
    "    sim_genre = list(enumerate(cs_genre[title_search_genre]))\n",
    "    sim_genre = sorted(sim_genre, key = lambda x: x[1], reverse = True)\n",
    "    top_ten_genre = sim_genre[1:11]\n",
    "    recom_genre = [i[0] for i in top_ten_genre]\n",
    "    return df[['title',  'listed_in', 'description']].iloc[recom_genre]"
   ]
  },
  {
   "cell_type": "code",
   "execution_count": 110,
   "id": "9dd1c7dd",
   "metadata": {},
   "outputs": [
    {
     "data": {
      "text/html": [
       "<div>\n",
       "<style scoped>\n",
       "    .dataframe tbody tr th:only-of-type {\n",
       "        vertical-align: middle;\n",
       "    }\n",
       "\n",
       "    .dataframe tbody tr th {\n",
       "        vertical-align: top;\n",
       "    }\n",
       "\n",
       "    .dataframe thead th {\n",
       "        text-align: right;\n",
       "    }\n",
       "</style>\n",
       "<table border=\"1\" class=\"dataframe\">\n",
       "  <thead>\n",
       "    <tr style=\"text-align: right;\">\n",
       "      <th></th>\n",
       "      <th>title</th>\n",
       "      <th>listed_in</th>\n",
       "      <th>description</th>\n",
       "    </tr>\n",
       "  </thead>\n",
       "  <tbody>\n",
       "    <tr>\n",
       "      <th>1796</th>\n",
       "      <td>Black '47</td>\n",
       "      <td>Action &amp; Adventure, Dramas, Independent Movies</td>\n",
       "      <td>When the Great Famine ravages his beloved coun...</td>\n",
       "    </tr>\n",
       "    <tr>\n",
       "      <th>2288</th>\n",
       "      <td>Shaitan</td>\n",
       "      <td>Action &amp; Adventure, Dramas, Independent Movies</td>\n",
       "      <td>When they're blackmailed after a hit-and-run, ...</td>\n",
       "    </tr>\n",
       "    <tr>\n",
       "      <th>2424</th>\n",
       "      <td>The Last Days of American Crime</td>\n",
       "      <td>Action &amp; Adventure, Dramas, Independent Movies</td>\n",
       "      <td>A bank robber joins a plot to commit one final...</td>\n",
       "    </tr>\n",
       "    <tr>\n",
       "      <th>3038</th>\n",
       "      <td>Monsters: Dark Continent</td>\n",
       "      <td>Action &amp; Adventure, Dramas, Independent Movies</td>\n",
       "      <td>An American platoon stationed in the Middle Ea...</td>\n",
       "    </tr>\n",
       "    <tr>\n",
       "      <th>4886</th>\n",
       "      <td>CIA: Comrade in America</td>\n",
       "      <td>Action &amp; Adventure, Dramas, Independent Movies</td>\n",
       "      <td>A young man in Kerala has two weeks to stop th...</td>\n",
       "    </tr>\n",
       "    <tr>\n",
       "      <th>5522</th>\n",
       "      <td>Sand Castle</td>\n",
       "      <td>Action &amp; Adventure, Dramas, Independent Movies</td>\n",
       "      <td>After the invasion of Iraq in 2003, a reluctan...</td>\n",
       "    </tr>\n",
       "    <tr>\n",
       "      <th>6530</th>\n",
       "      <td>Contract</td>\n",
       "      <td>Action &amp; Adventure, Dramas, Independent Movies</td>\n",
       "      <td>Following the death of his wife and daughter i...</td>\n",
       "    </tr>\n",
       "    <tr>\n",
       "      <th>6723</th>\n",
       "      <td>Expo</td>\n",
       "      <td>Action &amp; Adventure, Dramas, Independent Movies</td>\n",
       "      <td>Mistakenly accused of kidnapping, a veteran so...</td>\n",
       "    </tr>\n",
       "    <tr>\n",
       "      <th>7202</th>\n",
       "      <td>Kill the Irishman</td>\n",
       "      <td>Action &amp; Adventure, Dramas, Independent Movies</td>\n",
       "      <td>This true crime tale charts the rise and fall ...</td>\n",
       "    </tr>\n",
       "    <tr>\n",
       "      <th>7863</th>\n",
       "      <td>Revenge of the Green Dragons</td>\n",
       "      <td>Action &amp; Adventure, Dramas, Independent Movies</td>\n",
       "      <td>In gritty 1980s New York, two Chinese immigran...</td>\n",
       "    </tr>\n",
       "  </tbody>\n",
       "</table>\n",
       "</div>"
      ],
      "text/plain": [
       "                                title  \\\n",
       "1796                        Black '47   \n",
       "2288                          Shaitan   \n",
       "2424  The Last Days of American Crime   \n",
       "3038         Monsters: Dark Continent   \n",
       "4886          CIA: Comrade in America   \n",
       "5522                      Sand Castle   \n",
       "6530                         Contract   \n",
       "6723                             Expo   \n",
       "7202                Kill the Irishman   \n",
       "7863     Revenge of the Green Dragons   \n",
       "\n",
       "                                           listed_in  \\\n",
       "1796  Action & Adventure, Dramas, Independent Movies   \n",
       "2288  Action & Adventure, Dramas, Independent Movies   \n",
       "2424  Action & Adventure, Dramas, Independent Movies   \n",
       "3038  Action & Adventure, Dramas, Independent Movies   \n",
       "4886  Action & Adventure, Dramas, Independent Movies   \n",
       "5522  Action & Adventure, Dramas, Independent Movies   \n",
       "6530  Action & Adventure, Dramas, Independent Movies   \n",
       "6723  Action & Adventure, Dramas, Independent Movies   \n",
       "7202  Action & Adventure, Dramas, Independent Movies   \n",
       "7863  Action & Adventure, Dramas, Independent Movies   \n",
       "\n",
       "                                            description  \n",
       "1796  When the Great Famine ravages his beloved coun...  \n",
       "2288  When they're blackmailed after a hit-and-run, ...  \n",
       "2424  A bank robber joins a plot to commit one final...  \n",
       "3038  An American platoon stationed in the Middle Ea...  \n",
       "4886  A young man in Kerala has two weeks to stop th...  \n",
       "5522  After the invasion of Iraq in 2003, a reluctan...  \n",
       "6530  Following the death of his wife and daughter i...  \n",
       "6723  Mistakenly accused of kidnapping, a veteran so...  \n",
       "7202  This true crime tale charts the rise and fall ...  \n",
       "7863  In gritty 1980s New York, two Chinese immigran...  "
      ]
     },
     "execution_count": 110,
     "metadata": {},
     "output_type": "execute_result"
    }
   ],
   "source": [
    "recommendations_genre('Monsters: Dark Continent')"
   ]
  },
  {
   "cell_type": "markdown",
   "id": "b639d7ae",
   "metadata": {},
   "source": [
    "# Análisis de sentimiento"
   ]
  },
  {
   "cell_type": "markdown",
   "id": "d3e6cbc0",
   "metadata": {},
   "source": [
    "Finalmente, se hace un análisis de sentimiento de la información contenida en las producciones por año."
   ]
  },
  {
   "cell_type": "code",
   "execution_count": 112,
   "id": "39870a13",
   "metadata": {},
   "outputs": [
    {
     "data": {
      "image/png": "[encoded data removed]",
      "text/plain": [
       "<Figure size 1080x576 with 1 Axes>"
      ]
     },
     "metadata": {},
     "output_type": "display_data"
    }
   ],
   "source": [
    "from textblob import TextBlob\n",
    "\n",
    "dfs = df[['release_year', 'description']].copy()\n",
    "\n",
    "for index, row in dfs.iterrows():\n",
    "    \n",
    "    z = row['description']\n",
    "    testimonial = TextBlob(z)\n",
    "    p = testimonial.sentiment.polarity\n",
    "    if p == 0:\n",
    "        sent = 'Neutral'\n",
    "    elif p > 0:\n",
    "        sent = 'Positive'\n",
    "    else:\n",
    "        sent = 'Negative'\n",
    "    dfs.loc[[index, 2], 'Sentiment'] = sent\n",
    "\n",
    "\n",
    "dfs = dfs.groupby(['release_year', 'Sentiment']).size().reset_index(name = 'Total')\n",
    "\n",
    "dfs = dfs[dfs['release_year'] >= 2010]\n",
    "\n",
    "\n",
    "dfs2 = dfs.pivot(index = 'release_year', columns = 'Sentiment', values = 'Total')\n",
    "\n",
    "plt.figure(figsize = (15, 8))\n",
    "\n",
    "plt.bar(dfs2.index, dfs2['Negative'], color = 'darkred', label = 'Negative')\n",
    "plt.bar(dfs2.index, dfs2['Neutral'], bottom = dfs2['Negative'], color = 'steelblue', label = 'Neutral')\n",
    "plt.bar(dfs2.index, dfs2['Positive'], bottom = dfs2['Negative'] + dfs2['Neutral'], color = 'green', label = 'Positive')\n",
    "plt.title(\"Análisis de Sentimiento\")\n",
    "plt.ylabel(\"Total\")\n",
    "plt.xlabel(\"Año de estreno\")\n",
    "plt.legend(loc = 'best');"
   ]
  },
  {
   "cell_type": "code",
   "execution_count": 113,
   "id": "c92112fc",
   "metadata": {},
   "outputs": [
    {
     "name": "stdout",
     "output_type": "stream",
     "text": [
      "-----\n",
      "ipykernel           5.1.4\n",
      "matplotlib          3.1.3\n",
      "numpy               1.21.6\n",
      "pandas              1.3.5\n",
      "scipy               1.4.1\n",
      "seaborn             0.11.2\n",
      "session_info        1.0.0\n",
      "sklearn             1.0.2\n",
      "textblob            0.15.3\n",
      "wordcloud           1.9.2\n",
      "-----\n",
      "IPython             7.12.0\n",
      "jupyter_client      7.3.4\n",
      "jupyter_core        4.10.0\n",
      "jupyterlab          1.2.6\n",
      "notebook            6.0.3\n",
      "-----\n",
      "Python 3.7.6 (default, Jan  8 2020, 20:23:39) [MSC v.1916 64 bit (AMD64)]\n",
      "Windows-10-10.0.18362-SP0\n",
      "-----\n",
      "Session information updated at 2023-07-13 11:15\n"
     ]
    }
   ],
   "source": [
    "import session_info\n",
    "\n",
    "session_info.show(html = False)"
   ]
  }
 ],
 "metadata": {
  "kernelspec": {
   "display_name": "Python 3",
   "language": "python",
   "name": "python3"
  },
  "language_info": {
   "codemirror_mode": {
    "name": "ipython",
    "version": 3
   },
   "file_extension": ".py",
   "mimetype": "text/x-python",
   "name": "python",
   "nbconvert_exporter": "python",
   "pygments_lexer": "ipython3",
   "version": "3.7.6"
  },
  "toc": {
   "base_numbering": 1,
   "nav_menu": {},
   "number_sections": true,
   "sideBar": true,
   "skip_h1_title": false,
   "title_cell": "Table of Contents",
   "title_sidebar": "Contents",
   "toc_cell": false,
   "toc_position": {},
   "toc_section_display": true,
   "toc_window_display": false
  },
  "varInspector": {
   "cols": {
    "lenName": 16,
    "lenType": 16,
    "lenVar": 40
   },
   "kernels_config": {
    "python": {
     "delete_cmd_postfix": "",
     "delete_cmd_prefix": "del ",
     "library": "var_list.py",
     "varRefreshCmd": "print(var_dic_list())"
    },
    "r": {
     "delete_cmd_postfix": ") ",
     "delete_cmd_prefix": "rm(",
     "library": "var_list.r",
     "varRefreshCmd": "cat(var_dic_list()) "
    }
   },
   "types_to_exclude": [
    "module",
    "function",
    "builtin_function_or_method",
    "instance",
    "_Feature"
   ],
   "window_display": false
  }
 },
 "nbformat": 4,
 "nbformat_minor": 5
}
